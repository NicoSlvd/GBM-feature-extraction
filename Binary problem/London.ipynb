{
 "cells": [
  {
   "cell_type": "code",
   "execution_count": 1,
   "id": "7267dcc3-26a8-4a06-a127-0fdc1c9201db",
   "metadata": {},
   "outputs": [],
   "source": [
    "import numpy as np\n",
    "import pandas as pd\n",
    "import biogeme\n",
    "import sklearn\n",
    "import seaborn as sns\n",
    "import matplotlib.pyplot as plt\n",
    "import xgboost as xgb\n",
    "from sklearn.model_selection import train_test_split"
   ]
  },
  {
   "cell_type": "markdown",
   "id": "39529bf2-45f0-45dc-9ec7-c0796baf0ca0",
   "metadata": {},
   "source": [
    "# Constrained GBM"
   ]
  },
  {
   "cell_type": "code",
   "execution_count": 4,
   "id": "3519fe7c-d051-43fe-96b5-6792492ecadb",
   "metadata": {},
   "outputs": [],
   "source": [
    "ned_data_rp = pd.read_table(\"Data/netherlandsRP.dat\")\n",
    "\n",
    "X = ned_data_rp[['car_cost', 'rail_cost', 'car_ivtt', 'car_walk_time', 'rail_ivtt', 'rail_acc_time', 'rail_egr_time']]\n",
    "X_updt = X.copy()\n",
    "X_updt['car_tt'] = X['car_ivtt'] +X['car_walk_time']\n",
    "X_updt['rail_tt'] = X['rail_ivtt'] +X['rail_acc_time'] +X['rail_egr_time']\n",
    "\n",
    "rate_G2E = 0.44378022\n",
    "X_updt['car_cost'] = X_updt['car_cost'] * rate_G2E\n",
    "X_updt['rail_cost'] = X_updt['rail_cost'] * rate_G2E\n",
    "X_updt = X_updt.drop(columns=['car_ivtt', 'car_walk_time', 'rail_ivtt', 'rail_acc_time', 'rail_egr_time'])\n",
    "\n",
    "y = ned_data_rp['choice']"
   ]
  },
  {
   "cell_type": "code",
   "execution_count": 5,
   "id": "4dd97450-5b55-41d5-923f-43dd19223694",
   "metadata": {},
   "outputs": [],
   "source": [
    "X_train, X_validate, y_train, y_validate = train_test_split(X_updt, y, test_size=0.2, random_state=42)"
   ]
  },
  {
   "cell_type": "code",
   "execution_count": 42,
   "id": "9c5846a8-e1ca-4159-8893-fc3cef631134",
   "metadata": {},
   "outputs": [],
   "source": [
    "xgb_constrained = xgb.XGBClassifier(#objective='binary:logistic', \n",
    "                                    #learning_rate = 0.2,\n",
    "                                    n_estimators = 100, \n",
    "                                    max_depth = 1, \n",
    "                                    random_state = 1,\n",
    "                                    monotone_constraints = (-1, -1, -1, -1),\n",
    "                                    interaction_constraints = [[\"car_cost\"], [\"rail_cost\"], [\"car_tt\"], [\"rail_tt\"]],\n",
    "                                    reg_alpha = 0,\n",
    "                                    reg_lambda = 0,\n",
    "                                    gamma = 1\n",
    "                                   )"
   ]
  },
  {
   "cell_type": "code",
   "execution_count": 43,
   "id": "49b1745c-0138-4448-98c6-bc74f0a9a707",
   "metadata": {},
   "outputs": [
    {
     "data": {
      "text/plain": [
       "{'objective': 'binary:logistic',\n",
       " 'use_label_encoder': None,\n",
       " 'base_score': None,\n",
       " 'booster': None,\n",
       " 'callbacks': None,\n",
       " 'colsample_bylevel': None,\n",
       " 'colsample_bynode': None,\n",
       " 'colsample_bytree': None,\n",
       " 'early_stopping_rounds': None,\n",
       " 'enable_categorical': False,\n",
       " 'eval_metric': None,\n",
       " 'feature_types': None,\n",
       " 'gamma': 1,\n",
       " 'gpu_id': None,\n",
       " 'grow_policy': None,\n",
       " 'importance_type': None,\n",
       " 'interaction_constraints': [['car_cost'],\n",
       "  ['rail_cost'],\n",
       "  ['car_tt'],\n",
       "  ['rail_tt']],\n",
       " 'learning_rate': None,\n",
       " 'max_bin': None,\n",
       " 'max_cat_threshold': None,\n",
       " 'max_cat_to_onehot': None,\n",
       " 'max_delta_step': None,\n",
       " 'max_depth': 1,\n",
       " 'max_leaves': None,\n",
       " 'min_child_weight': None,\n",
       " 'missing': nan,\n",
       " 'monotone_constraints': (-1, -1, -1, -1),\n",
       " 'n_estimators': 100,\n",
       " 'n_jobs': None,\n",
       " 'num_parallel_tree': None,\n",
       " 'predictor': None,\n",
       " 'random_state': 1,\n",
       " 'reg_alpha': 0,\n",
       " 'reg_lambda': 0,\n",
       " 'sampling_method': None,\n",
       " 'scale_pos_weight': None,\n",
       " 'subsample': None,\n",
       " 'tree_method': None,\n",
       " 'validate_parameters': None,\n",
       " 'verbosity': None}"
      ]
     },
     "execution_count": 43,
     "metadata": {},
     "output_type": "execute_result"
    }
   ],
   "source": [
    "xgb_constrained.get_params()"
   ]
  },
  {
   "cell_type": "code",
   "execution_count": 44,
   "id": "cce7c59d-732e-4ee5-b256-dfb68cf2ee03",
   "metadata": {},
   "outputs": [
    {
     "data": {
      "text/plain": [
       "107.60278"
      ]
     },
     "execution_count": 44,
     "metadata": {},
     "output_type": "execute_result"
    }
   ],
   "source": [
    "0.60451*178"
   ]
  },
  {
   "cell_type": "code",
   "execution_count": 45,
   "id": "77fb27bd-f746-43fb-bdc2-0b534ac7ded2",
   "metadata": {},
   "outputs": [
    {
     "name": "stdout",
     "output_type": "stream",
     "text": [
      "[0]\tvalidation_0-logloss:0.65805\n",
      "[1]\tvalidation_0-logloss:0.63799\n",
      "[2]\tvalidation_0-logloss:0.62675\n",
      "[3]\tvalidation_0-logloss:0.61956\n",
      "[4]\tvalidation_0-logloss:0.61520\n",
      "[5]\tvalidation_0-logloss:0.61200\n",
      "[6]\tvalidation_0-logloss:0.60998\n",
      "[7]\tvalidation_0-logloss:0.60974\n",
      "[8]\tvalidation_0-logloss:0.60962\n",
      "[9]\tvalidation_0-logloss:0.60956\n",
      "[10]\tvalidation_0-logloss:0.60953\n",
      "[11]\tvalidation_0-logloss:0.60952\n",
      "[12]\tvalidation_0-logloss:0.60951\n",
      "[13]\tvalidation_0-logloss:0.60951\n",
      "[14]\tvalidation_0-logloss:0.60951\n",
      "[15]\tvalidation_0-logloss:0.60951\n",
      "[16]\tvalidation_0-logloss:0.60951\n",
      "[17]\tvalidation_0-logloss:0.60951\n",
      "[18]\tvalidation_0-logloss:0.60951\n",
      "[19]\tvalidation_0-logloss:0.60951\n",
      "[20]\tvalidation_0-logloss:0.60951\n",
      "[21]\tvalidation_0-logloss:0.60951\n",
      "[22]\tvalidation_0-logloss:0.60951\n",
      "[23]\tvalidation_0-logloss:0.60951\n",
      "[24]\tvalidation_0-logloss:0.60951\n",
      "[25]\tvalidation_0-logloss:0.60951\n",
      "[26]\tvalidation_0-logloss:0.60951\n",
      "[27]\tvalidation_0-logloss:0.60951\n",
      "[28]\tvalidation_0-logloss:0.60951\n",
      "[29]\tvalidation_0-logloss:0.60951\n",
      "[30]\tvalidation_0-logloss:0.60951\n",
      "[31]\tvalidation_0-logloss:0.60951\n",
      "[32]\tvalidation_0-logloss:0.60951\n",
      "[33]\tvalidation_0-logloss:0.60951\n",
      "[34]\tvalidation_0-logloss:0.60951\n",
      "[35]\tvalidation_0-logloss:0.60951\n",
      "[36]\tvalidation_0-logloss:0.60951\n",
      "[37]\tvalidation_0-logloss:0.60951\n",
      "[38]\tvalidation_0-logloss:0.60951\n",
      "[39]\tvalidation_0-logloss:0.60951\n",
      "[40]\tvalidation_0-logloss:0.60951\n",
      "[41]\tvalidation_0-logloss:0.60951\n",
      "[42]\tvalidation_0-logloss:0.60951\n",
      "[43]\tvalidation_0-logloss:0.60951\n",
      "[44]\tvalidation_0-logloss:0.60951\n",
      "[45]\tvalidation_0-logloss:0.60951\n",
      "[46]\tvalidation_0-logloss:0.60951\n",
      "[47]\tvalidation_0-logloss:0.60951\n",
      "[48]\tvalidation_0-logloss:0.60951\n",
      "[49]\tvalidation_0-logloss:0.60951\n",
      "[50]\tvalidation_0-logloss:0.60951\n",
      "[51]\tvalidation_0-logloss:0.60951\n",
      "[52]\tvalidation_0-logloss:0.60951\n",
      "[53]\tvalidation_0-logloss:0.60951\n",
      "[54]\tvalidation_0-logloss:0.60951\n",
      "[55]\tvalidation_0-logloss:0.60951\n",
      "[56]\tvalidation_0-logloss:0.60951\n",
      "[57]\tvalidation_0-logloss:0.60951\n",
      "[58]\tvalidation_0-logloss:0.60951\n",
      "[59]\tvalidation_0-logloss:0.60951\n",
      "[60]\tvalidation_0-logloss:0.60951\n",
      "[61]\tvalidation_0-logloss:0.60951\n",
      "[62]\tvalidation_0-logloss:0.60951\n",
      "[63]\tvalidation_0-logloss:0.60951\n",
      "[64]\tvalidation_0-logloss:0.60951\n",
      "[65]\tvalidation_0-logloss:0.60951\n",
      "[66]\tvalidation_0-logloss:0.60951\n",
      "[67]\tvalidation_0-logloss:0.60951\n",
      "[68]\tvalidation_0-logloss:0.60951\n",
      "[69]\tvalidation_0-logloss:0.60951\n",
      "[70]\tvalidation_0-logloss:0.60951\n",
      "[71]\tvalidation_0-logloss:0.60951\n",
      "[72]\tvalidation_0-logloss:0.60951\n",
      "[73]\tvalidation_0-logloss:0.60951\n",
      "[74]\tvalidation_0-logloss:0.60951\n",
      "[75]\tvalidation_0-logloss:0.60951\n",
      "[76]\tvalidation_0-logloss:0.60951\n",
      "[77]\tvalidation_0-logloss:0.60951\n",
      "[78]\tvalidation_0-logloss:0.60951\n",
      "[79]\tvalidation_0-logloss:0.60951\n",
      "[80]\tvalidation_0-logloss:0.60951\n",
      "[81]\tvalidation_0-logloss:0.60951\n",
      "[82]\tvalidation_0-logloss:0.60951\n",
      "[83]\tvalidation_0-logloss:0.60951\n",
      "[84]\tvalidation_0-logloss:0.60951\n",
      "[85]\tvalidation_0-logloss:0.60951\n",
      "[86]\tvalidation_0-logloss:0.60951\n",
      "[87]\tvalidation_0-logloss:0.60951\n",
      "[88]\tvalidation_0-logloss:0.60951\n",
      "[89]\tvalidation_0-logloss:0.60951\n",
      "[90]\tvalidation_0-logloss:0.60951\n",
      "[91]\tvalidation_0-logloss:0.60951\n",
      "[92]\tvalidation_0-logloss:0.60951\n",
      "[93]\tvalidation_0-logloss:0.60951\n",
      "[94]\tvalidation_0-logloss:0.60951\n",
      "[95]\tvalidation_0-logloss:0.60951\n",
      "[96]\tvalidation_0-logloss:0.60951\n",
      "[97]\tvalidation_0-logloss:0.60951\n",
      "[98]\tvalidation_0-logloss:0.60951\n",
      "[99]\tvalidation_0-logloss:0.60951\n"
     ]
    },
    {
     "data": {
      "text/plain": [
       "XGBClassifier(base_score=None, booster=None, callbacks=None,\n",
       "              colsample_bylevel=None, colsample_bynode=None,\n",
       "              colsample_bytree=None, early_stopping_rounds=None,\n",
       "              enable_categorical=False, eval_metric=None, feature_types=None,\n",
       "              gamma=1, gpu_id=None, grow_policy=None, importance_type=None,\n",
       "              interaction_constraints=[['car_cost'], ['rail_cost'], ['car_tt'],\n",
       "                                       ['rail_tt']],\n",
       "              learning_rate=None, max_bin=None, max_cat_threshold=None,\n",
       "              max_cat_to_onehot=None, max_delta_step=None, max_depth=1,\n",
       "              max_leaves=None, min_child_weight=None, missing=nan,\n",
       "              monotone_constraints=(-1, -1, -1, -1), n_estimators=100,\n",
       "              n_jobs=None, num_parallel_tree=None, predictor=None,\n",
       "              random_state=1, ...)"
      ]
     },
     "execution_count": 45,
     "metadata": {},
     "output_type": "execute_result"
    }
   ],
   "source": [
    "eval_set = [(X_train, y_train)]\n",
    "xgb_constrained.fit(X_train, y_train, eval_set=eval_set)"
   ]
  },
  {
   "cell_type": "code",
   "execution_count": 46,
   "id": "a35d19ba-052b-4b38-8399-3c89837d77ce",
   "metadata": {},
   "outputs": [
    {
     "data": {
      "text/plain": [
       "0.5652173913043478"
      ]
     },
     "execution_count": 46,
     "metadata": {},
     "output_type": "execute_result"
    }
   ],
   "source": [
    "y_pred=xgb_constrained.predict(X_validate)\n",
    "\n",
    "from sklearn.metrics import accuracy_score\n",
    "\n",
    "accuracy_score(y_validate, y_pred)"
   ]
  },
  {
   "cell_type": "markdown",
   "id": "21b4c4c0-cc87-457e-a52a-47dd3e3cb8f5",
   "metadata": {},
   "source": [
    "# Unconstrained model"
   ]
  },
  {
   "cell_type": "code",
   "execution_count": 47,
   "id": "1b7d9556-278b-42a6-9e46-aaf8a4b2264e",
   "metadata": {},
   "outputs": [],
   "source": [
    "xgb_unconstrained = xgb.XGBClassifier(#objective='binary:logistic', \n",
    "                                      learning_rate = 1,\n",
    "                                      n_estimators = 1000, \n",
    "                                      max_depth = 1, \n",
    "                                      random_state = 1,\n",
    "                                      reg_alpha = 0,\n",
    "                                      reg_lambda = 0\n",
    "                                     )"
   ]
  },
  {
   "cell_type": "code",
   "execution_count": 48,
   "id": "85e9edcf-2edc-4a62-9eea-2a4205383928",
   "metadata": {},
   "outputs": [
    {
     "data": {
      "text/plain": [
       "XGBClassifier(base_score=None, booster=None, callbacks=None,\n",
       "              colsample_bylevel=None, colsample_bynode=None,\n",
       "              colsample_bytree=None, early_stopping_rounds=None,\n",
       "              enable_categorical=False, eval_metric=None, feature_types=None,\n",
       "              gamma=None, gpu_id=None, grow_policy=None, importance_type=None,\n",
       "              interaction_constraints=None, learning_rate=1, max_bin=None,\n",
       "              max_cat_threshold=None, max_cat_to_onehot=None,\n",
       "              max_delta_step=None, max_depth=1, max_leaves=None,\n",
       "              min_child_weight=None, missing=nan, monotone_constraints=None,\n",
       "              n_estimators=1000, n_jobs=None, num_parallel_tree=None,\n",
       "              predictor=None, random_state=1, ...)"
      ]
     },
     "execution_count": 48,
     "metadata": {},
     "output_type": "execute_result"
    }
   ],
   "source": [
    "xgb_unconstrained.fit(X_train, y_train)"
   ]
  },
  {
   "cell_type": "code",
   "execution_count": 49,
   "id": "ac3d80d5-f9ac-4a31-a389-253d0f372860",
   "metadata": {},
   "outputs": [
    {
     "data": {
      "text/plain": [
       "0.6304347826086957"
      ]
     },
     "execution_count": 49,
     "metadata": {},
     "output_type": "execute_result"
    }
   ],
   "source": [
    "y_pred_unc=xgb_unconstrained.predict(X_validate)\n",
    "\n",
    "accuracy_score(y_validate, y_pred_unc)"
   ]
  }
 ],
 "metadata": {
  "kernelspec": {
   "display_name": "Python [conda env:biogeme]",
   "language": "python",
   "name": "conda-env-biogeme-py"
  },
  "language_info": {
   "codemirror_mode": {
    "name": "ipython",
    "version": 3
   },
   "file_extension": ".py",
   "mimetype": "text/x-python",
   "name": "python",
   "nbconvert_exporter": "python",
   "pygments_lexer": "ipython3",
   "version": "3.9.7"
  }
 },
 "nbformat": 4,
 "nbformat_minor": 5
}
