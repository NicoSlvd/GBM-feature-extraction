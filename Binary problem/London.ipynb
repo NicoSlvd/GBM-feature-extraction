{
 "cells": [
  {
   "cell_type": "code",
   "execution_count": 1,
   "id": "7267dcc3-26a8-4a06-a127-0fdc1c9201db",
   "metadata": {},
   "outputs": [],
   "source": [
    "import numpy as np\n",
    "import pandas as pd\n",
    "import biogeme\n",
    "import sklearn\n",
    "import seaborn as sns\n",
    "import matplotlib.pyplot as plt\n",
    "import xgboost as xgb\n",
    "from sklearn.model_selection import train_test_split"
   ]
  },
  {
   "cell_type": "markdown",
   "id": "39529bf2-45f0-45dc-9ec7-c0796baf0ca0",
   "metadata": {},
   "source": [
    "# Constrained GBM"
   ]
  },
  {
   "cell_type": "code",
<<<<<<< HEAD
<<<<<<< HEAD
   "execution_count": 2,
=======
   "execution_count": 4,
>>>>>>> f5251d1992fdb7862cc930cb4724d8fb3c4d26e6
=======
   "execution_count": 4,
>>>>>>> parent of 2eb4853 (Binary problem on London dataset)
   "id": "3519fe7c-d051-43fe-96b5-6792492ecadb",
   "metadata": {},
   "outputs": [],
   "source": [
<<<<<<< HEAD
<<<<<<< HEAD
    "london_data = pd.read_csv(\"Data/dataset_london.csv\")\n",
=======
    "ned_data_rp = pd.read_table(\"Data/netherlandsRP.dat\")\n",
>>>>>>> parent of 2eb4853 (Binary problem on London dataset)
    "\n",
    "X = ned_data_rp[['car_cost', 'rail_cost', 'car_ivtt', 'car_walk_time', 'rail_ivtt', 'rail_acc_time', 'rail_egr_time']]\n",
    "X_updt = X.copy()\n",
    "X_updt['car_tt'] = X['car_ivtt'] +X['car_walk_time']\n",
    "X_updt['rail_tt'] = X['rail_ivtt'] +X['rail_acc_time'] +X['rail_egr_time']\n",
    "\n",
    "rate_G2E = 0.44378022\n",
    "X_updt['car_cost'] = X_updt['car_cost'] * rate_G2E\n",
    "X_updt['rail_cost'] = X_updt['rail_cost'] * rate_G2E\n",
    "X_updt = X_updt.drop(columns=['car_ivtt', 'car_walk_time', 'rail_ivtt', 'rail_acc_time', 'rail_egr_time'])\n",
    "\n",
<<<<<<< HEAD
    "ld_with_one_trip = ld_with_car.groupby(by=['household_id']).sample(1)"
   ]
  },
  {
   "cell_type": "code",
   "execution_count": 3,
   "id": "fd7e60d2-5375-4d88-a7c7-272783b7c46c",
   "metadata": {},
   "outputs": [],
   "source": [
    "Feature = ld_with_one_trip[['travel_mode', 'survey_year', 'dur_walking', 'dur_cycling', 'dur_pt_total', 'dur_driving', 'cost_transit', 'cost_driving_total']]\n",
    "\n",
    "X = Feature[['survey_year', 'dur_walking', 'dur_cycling', 'dur_pt_total', 'dur_driving', 'cost_transit', 'cost_driving_total']]\n",
    "y = Feature[['travel_mode', 'survey_year']]\n",
    "\n",
    "new_mode = {'walk':1, 'cycle':1, 'pt':1, 'drive':0}\n",
    "\n",
    "y = y.replace({'travel_mode': new_mode})\n",
    "\n",
    "X['dur_non_driving'] = X[[ 'dur_walking', 'dur_cycling', 'dur_pt_total']].min(axis=1)\n",
    "\n",
    "X_train = X[X['survey_year']<3]\n",
    "X_validate =  X[X['survey_year']==3]\n",
    "y_train = y[y['survey_year']<3]\n",
    "y_validate = y[y['survey_year']==3]\n",
    "\n",
    "X_train = X_train.drop(columns=['survey_year', 'dur_walking', 'dur_cycling', 'dur_pt_total'])\n",
    "X_validate = X_validate.drop(columns=['survey_year', 'dur_walking', 'dur_cycling', 'dur_pt_total'])\n",
    "y_train = y_train.drop(columns=['survey_year'])\n",
    "y_validate = y_validate.drop(columns=['survey_year'])\n",
    "\n",
    "#X_train = X_train.drop(columns=['survey_year', 'dur_walking', 'dur_cycling', 'dur_pt_total', 'cost_transit', 'cost_driving_total'])\n",
    "#X_validate = X_validate.drop(columns=['survey_year', 'dur_walking', 'dur_cycling', 'dur_pt_total', 'cost_transit', 'cost_driving_total'])\n",
    "#y_train = y_train.drop(columns=['survey_year'])\n",
    "#y_validate = y_validate.drop(columns=['survey_year'])"
   ]
  },
  {
   "cell_type": "code",
   "execution_count": 4,
   "id": "d8e6a67c-70e5-420c-9857-218a15b6c8a8",
   "metadata": {},
   "outputs": [
    {
     "data": {
      "text/plain": [
       "Index(['dur_driving', 'cost_transit', 'cost_driving_total', 'dur_non_driving'], dtype='object')"
      ]
     },
     "execution_count": 4,
     "metadata": {},
     "output_type": "execute_result"
    }
   ],
   "source": [
    "X_train.columns"
=======
    "ned_data_rp = pd.read_table(\"Data/netherlandsRP.dat\")\n",
    "\n",
    "X = ned_data_rp[['car_cost', 'rail_cost', 'car_ivtt', 'car_walk_time', 'rail_ivtt', 'rail_acc_time', 'rail_egr_time']]\n",
    "X_updt = X.copy()\n",
    "X_updt['car_tt'] = X['car_ivtt'] +X['car_walk_time']\n",
    "X_updt['rail_tt'] = X['rail_ivtt'] +X['rail_acc_time'] +X['rail_egr_time']\n",
    "\n",
    "rate_G2E = 0.44378022\n",
    "X_updt['car_cost'] = X_updt['car_cost'] * rate_G2E\n",
    "X_updt['rail_cost'] = X_updt['rail_cost'] * rate_G2E\n",
    "X_updt = X_updt.drop(columns=['car_ivtt', 'car_walk_time', 'rail_ivtt', 'rail_acc_time', 'rail_egr_time'])\n",
    "\n",
    "y = ned_data_rp['choice']"
>>>>>>> f5251d1992fdb7862cc930cb4724d8fb3c4d26e6
=======
    "y = ned_data_rp['choice']"
>>>>>>> parent of 2eb4853 (Binary problem on London dataset)
   ]
  },
  {
   "cell_type": "code",
   "execution_count": 5,
<<<<<<< HEAD
<<<<<<< HEAD
   "id": "867c3cb2-cf17-490c-9dca-29c366f49879",
   "metadata": {},
   "outputs": [],
   "source": [
    "dtrain = xgb.DMatrix(X_train, label=y_train)\n",
    "deval = xgb.DMatrix(X_validate, label=y_validate)\n",
    "\n",
    "evallist = [(dtrain, 'train'), (deval, 'eval')]\n",
    "\n",
    "num_round = 100\n",
    "\n",
    "param = {'max_depth': 1, \n",
    "         'objective': 'binary:logistic', \n",
    "         'lambda':0, \n",
    "         'alpha':0, \n",
    "         'monotone_constraints': (-1, -1, -1, -1), \n",
    "         'interaction_constraints': [['dur_driving'], ['cost_transit'], ['cost_driving_total'], ['dur_non_driving']]}\n",
    "\n",
    "\n",
    "#param = {'max_depth': 1, \n",
    "#         'objective': 'binary:logistic', \n",
    "#         'lambda':0, \n",
    "#         'alpha':0, \n",
    "#         'monotone_constraints': (-1, -1), \n",
    "#         'interaction_constraints': [['dur_driving'], ['dur_non_driving']]}"
=======
   "id": "4dd97450-5b55-41d5-923f-43dd19223694",
   "metadata": {},
   "outputs": [],
   "source": [
    "X_train, X_validate, y_train, y_validate = train_test_split(X_updt, y, test_size=0.2, random_state=42)"
>>>>>>> f5251d1992fdb7862cc930cb4724d8fb3c4d26e6
=======
   "id": "4dd97450-5b55-41d5-923f-43dd19223694",
   "metadata": {},
   "outputs": [],
   "source": [
    "X_train, X_validate, y_train, y_validate = train_test_split(X_updt, y, test_size=0.2, random_state=42)"
>>>>>>> parent of 2eb4853 (Binary problem on London dataset)
   ]
  },
  {
   "cell_type": "code",
<<<<<<< HEAD
<<<<<<< HEAD
   "execution_count": 6,
   "id": "2e1a8c40-13ff-4a5c-8e25-c7ade3789af2",
=======
   "execution_count": 42,
   "id": "9c5846a8-e1ca-4159-8893-fc3cef631134",
>>>>>>> parent of 2eb4853 (Binary problem on London dataset)
   "metadata": {},
   "outputs": [],
   "source": [
<<<<<<< HEAD
    "xgb_constrained = xgb.train(param, dtrain, num_round, evallist)"
=======
   "execution_count": 42,
   "id": "9c5846a8-e1ca-4159-8893-fc3cef631134",
   "metadata": {},
   "outputs": [],
   "source": [
=======
>>>>>>> parent of 2eb4853 (Binary problem on London dataset)
    "xgb_constrained = xgb.XGBClassifier(#objective='binary:logistic', \n",
    "                                    #learning_rate = 0.2,\n",
    "                                    n_estimators = 100, \n",
    "                                    max_depth = 1, \n",
    "                                    random_state = 1,\n",
    "                                    monotone_constraints = (-1, -1, -1, -1),\n",
    "                                    interaction_constraints = [[\"car_cost\"], [\"rail_cost\"], [\"car_tt\"], [\"rail_tt\"]],\n",
    "                                    reg_alpha = 0,\n",
    "                                    reg_lambda = 0,\n",
    "                                    gamma = 1\n",
    "                                   )"
<<<<<<< HEAD
>>>>>>> f5251d1992fdb7862cc930cb4724d8fb3c4d26e6
=======
>>>>>>> parent of 2eb4853 (Binary problem on London dataset)
   ]
  },
  {
   "cell_type": "code",
<<<<<<< HEAD
<<<<<<< HEAD
   "execution_count": 7,
   "id": "77fb27bd-f746-43fb-bdc2-0b534ac7ded2",
=======
   "execution_count": 43,
   "id": "49b1745c-0138-4448-98c6-bc74f0a9a707",
>>>>>>> f5251d1992fdb7862cc930cb4724d8fb3c4d26e6
=======
   "execution_count": 43,
   "id": "49b1745c-0138-4448-98c6-bc74f0a9a707",
>>>>>>> parent of 2eb4853 (Binary problem on London dataset)
   "metadata": {},
   "outputs": [
    {
     "data": {
      "text/plain": [
<<<<<<< HEAD
<<<<<<< HEAD
       "0.6438637698179683"
      ]
     },
     "execution_count": 7,
=======
       "{'objective': 'binary:logistic',\n",
       " 'use_label_encoder': None,\n",
       " 'base_score': None,\n",
       " 'booster': None,\n",
       " 'callbacks': None,\n",
       " 'colsample_bylevel': None,\n",
       " 'colsample_bynode': None,\n",
       " 'colsample_bytree': None,\n",
       " 'early_stopping_rounds': None,\n",
       " 'enable_categorical': False,\n",
       " 'eval_metric': None,\n",
       " 'feature_types': None,\n",
       " 'gamma': 1,\n",
       " 'gpu_id': None,\n",
       " 'grow_policy': None,\n",
       " 'importance_type': None,\n",
       " 'interaction_constraints': [['car_cost'],\n",
       "  ['rail_cost'],\n",
       "  ['car_tt'],\n",
       "  ['rail_tt']],\n",
       " 'learning_rate': None,\n",
       " 'max_bin': None,\n",
       " 'max_cat_threshold': None,\n",
       " 'max_cat_to_onehot': None,\n",
       " 'max_delta_step': None,\n",
       " 'max_depth': 1,\n",
       " 'max_leaves': None,\n",
       " 'min_child_weight': None,\n",
       " 'missing': nan,\n",
       " 'monotone_constraints': (-1, -1, -1, -1),\n",
       " 'n_estimators': 100,\n",
       " 'n_jobs': None,\n",
       " 'num_parallel_tree': None,\n",
       " 'predictor': None,\n",
       " 'random_state': 1,\n",
       " 'reg_alpha': 0,\n",
       " 'reg_lambda': 0,\n",
       " 'sampling_method': None,\n",
       " 'scale_pos_weight': None,\n",
       " 'subsample': None,\n",
       " 'tree_method': None,\n",
       " 'validate_parameters': None,\n",
       " 'verbosity': None}"
      ]
     },
     "execution_count": 43,
>>>>>>> f5251d1992fdb7862cc930cb4724d8fb3c4d26e6
=======
       "{'objective': 'binary:logistic',\n",
       " 'use_label_encoder': None,\n",
       " 'base_score': None,\n",
       " 'booster': None,\n",
       " 'callbacks': None,\n",
       " 'colsample_bylevel': None,\n",
       " 'colsample_bynode': None,\n",
       " 'colsample_bytree': None,\n",
       " 'early_stopping_rounds': None,\n",
       " 'enable_categorical': False,\n",
       " 'eval_metric': None,\n",
       " 'feature_types': None,\n",
       " 'gamma': 1,\n",
       " 'gpu_id': None,\n",
       " 'grow_policy': None,\n",
       " 'importance_type': None,\n",
       " 'interaction_constraints': [['car_cost'],\n",
       "  ['rail_cost'],\n",
       "  ['car_tt'],\n",
       "  ['rail_tt']],\n",
       " 'learning_rate': None,\n",
       " 'max_bin': None,\n",
       " 'max_cat_threshold': None,\n",
       " 'max_cat_to_onehot': None,\n",
       " 'max_delta_step': None,\n",
       " 'max_depth': 1,\n",
       " 'max_leaves': None,\n",
       " 'min_child_weight': None,\n",
       " 'missing': nan,\n",
       " 'monotone_constraints': (-1, -1, -1, -1),\n",
       " 'n_estimators': 100,\n",
       " 'n_jobs': None,\n",
       " 'num_parallel_tree': None,\n",
       " 'predictor': None,\n",
       " 'random_state': 1,\n",
       " 'reg_alpha': 0,\n",
       " 'reg_lambda': 0,\n",
       " 'sampling_method': None,\n",
       " 'scale_pos_weight': None,\n",
       " 'subsample': None,\n",
       " 'tree_method': None,\n",
       " 'validate_parameters': None,\n",
       " 'verbosity': None}"
      ]
     },
     "execution_count": 43,
>>>>>>> parent of 2eb4853 (Binary problem on London dataset)
     "metadata": {},
     "output_type": "execute_result"
    }
   ],
   "source": [
<<<<<<< HEAD
<<<<<<< HEAD
    "dtest = xgb.DMatrix(X_validate)\n",
    "\n",
    "y_pred=np.rint(xgb_constrained.predict(dtest))\n",
=======
=======
>>>>>>> parent of 2eb4853 (Binary problem on London dataset)
    "xgb_constrained.get_params()"
   ]
  },
  {
   "cell_type": "code",
   "execution_count": 44,
   "id": "cce7c59d-732e-4ee5-b256-dfb68cf2ee03",
   "metadata": {},
   "outputs": [
    {
     "data": {
      "text/plain": [
       "107.60278"
      ]
     },
     "execution_count": 44,
     "metadata": {},
     "output_type": "execute_result"
    }
   ],
   "source": [
    "0.60451*178"
   ]
  },
  {
   "cell_type": "code",
   "execution_count": 45,
   "id": "77fb27bd-f746-43fb-bdc2-0b534ac7ded2",
   "metadata": {},
   "outputs": [
    {
     "name": "stdout",
     "output_type": "stream",
     "text": [
      "[0]\tvalidation_0-logloss:0.65805\n",
      "[1]\tvalidation_0-logloss:0.63799\n",
      "[2]\tvalidation_0-logloss:0.62675\n",
      "[3]\tvalidation_0-logloss:0.61956\n",
      "[4]\tvalidation_0-logloss:0.61520\n",
      "[5]\tvalidation_0-logloss:0.61200\n",
      "[6]\tvalidation_0-logloss:0.60998\n",
      "[7]\tvalidation_0-logloss:0.60974\n",
      "[8]\tvalidation_0-logloss:0.60962\n",
      "[9]\tvalidation_0-logloss:0.60956\n",
      "[10]\tvalidation_0-logloss:0.60953\n",
      "[11]\tvalidation_0-logloss:0.60952\n",
      "[12]\tvalidation_0-logloss:0.60951\n",
      "[13]\tvalidation_0-logloss:0.60951\n",
      "[14]\tvalidation_0-logloss:0.60951\n",
      "[15]\tvalidation_0-logloss:0.60951\n",
      "[16]\tvalidation_0-logloss:0.60951\n",
      "[17]\tvalidation_0-logloss:0.60951\n",
      "[18]\tvalidation_0-logloss:0.60951\n",
      "[19]\tvalidation_0-logloss:0.60951\n",
      "[20]\tvalidation_0-logloss:0.60951\n",
      "[21]\tvalidation_0-logloss:0.60951\n",
      "[22]\tvalidation_0-logloss:0.60951\n",
      "[23]\tvalidation_0-logloss:0.60951\n",
      "[24]\tvalidation_0-logloss:0.60951\n",
      "[25]\tvalidation_0-logloss:0.60951\n",
      "[26]\tvalidation_0-logloss:0.60951\n",
      "[27]\tvalidation_0-logloss:0.60951\n",
      "[28]\tvalidation_0-logloss:0.60951\n",
      "[29]\tvalidation_0-logloss:0.60951\n",
      "[30]\tvalidation_0-logloss:0.60951\n",
      "[31]\tvalidation_0-logloss:0.60951\n",
      "[32]\tvalidation_0-logloss:0.60951\n",
      "[33]\tvalidation_0-logloss:0.60951\n",
      "[34]\tvalidation_0-logloss:0.60951\n",
      "[35]\tvalidation_0-logloss:0.60951\n",
      "[36]\tvalidation_0-logloss:0.60951\n",
      "[37]\tvalidation_0-logloss:0.60951\n",
      "[38]\tvalidation_0-logloss:0.60951\n",
      "[39]\tvalidation_0-logloss:0.60951\n",
      "[40]\tvalidation_0-logloss:0.60951\n",
      "[41]\tvalidation_0-logloss:0.60951\n",
      "[42]\tvalidation_0-logloss:0.60951\n",
      "[43]\tvalidation_0-logloss:0.60951\n",
      "[44]\tvalidation_0-logloss:0.60951\n",
      "[45]\tvalidation_0-logloss:0.60951\n",
      "[46]\tvalidation_0-logloss:0.60951\n",
      "[47]\tvalidation_0-logloss:0.60951\n",
      "[48]\tvalidation_0-logloss:0.60951\n",
      "[49]\tvalidation_0-logloss:0.60951\n",
      "[50]\tvalidation_0-logloss:0.60951\n",
      "[51]\tvalidation_0-logloss:0.60951\n",
      "[52]\tvalidation_0-logloss:0.60951\n",
      "[53]\tvalidation_0-logloss:0.60951\n",
      "[54]\tvalidation_0-logloss:0.60951\n",
      "[55]\tvalidation_0-logloss:0.60951\n",
      "[56]\tvalidation_0-logloss:0.60951\n",
      "[57]\tvalidation_0-logloss:0.60951\n",
      "[58]\tvalidation_0-logloss:0.60951\n",
      "[59]\tvalidation_0-logloss:0.60951\n",
      "[60]\tvalidation_0-logloss:0.60951\n",
      "[61]\tvalidation_0-logloss:0.60951\n",
      "[62]\tvalidation_0-logloss:0.60951\n",
      "[63]\tvalidation_0-logloss:0.60951\n",
      "[64]\tvalidation_0-logloss:0.60951\n",
      "[65]\tvalidation_0-logloss:0.60951\n",
      "[66]\tvalidation_0-logloss:0.60951\n",
      "[67]\tvalidation_0-logloss:0.60951\n",
      "[68]\tvalidation_0-logloss:0.60951\n",
      "[69]\tvalidation_0-logloss:0.60951\n",
      "[70]\tvalidation_0-logloss:0.60951\n",
      "[71]\tvalidation_0-logloss:0.60951\n",
      "[72]\tvalidation_0-logloss:0.60951\n",
      "[73]\tvalidation_0-logloss:0.60951\n",
      "[74]\tvalidation_0-logloss:0.60951\n",
      "[75]\tvalidation_0-logloss:0.60951\n",
      "[76]\tvalidation_0-logloss:0.60951\n",
      "[77]\tvalidation_0-logloss:0.60951\n",
      "[78]\tvalidation_0-logloss:0.60951\n",
      "[79]\tvalidation_0-logloss:0.60951\n",
      "[80]\tvalidation_0-logloss:0.60951\n",
      "[81]\tvalidation_0-logloss:0.60951\n",
      "[82]\tvalidation_0-logloss:0.60951\n",
      "[83]\tvalidation_0-logloss:0.60951\n",
      "[84]\tvalidation_0-logloss:0.60951\n",
      "[85]\tvalidation_0-logloss:0.60951\n",
      "[86]\tvalidation_0-logloss:0.60951\n",
      "[87]\tvalidation_0-logloss:0.60951\n",
      "[88]\tvalidation_0-logloss:0.60951\n",
      "[89]\tvalidation_0-logloss:0.60951\n",
      "[90]\tvalidation_0-logloss:0.60951\n",
      "[91]\tvalidation_0-logloss:0.60951\n",
      "[92]\tvalidation_0-logloss:0.60951\n",
      "[93]\tvalidation_0-logloss:0.60951\n",
      "[94]\tvalidation_0-logloss:0.60951\n",
      "[95]\tvalidation_0-logloss:0.60951\n",
      "[96]\tvalidation_0-logloss:0.60951\n",
      "[97]\tvalidation_0-logloss:0.60951\n",
      "[98]\tvalidation_0-logloss:0.60951\n",
      "[99]\tvalidation_0-logloss:0.60951\n"
     ]
    },
    {
     "data": {
      "text/plain": [
       "XGBClassifier(base_score=None, booster=None, callbacks=None,\n",
       "              colsample_bylevel=None, colsample_bynode=None,\n",
       "              colsample_bytree=None, early_stopping_rounds=None,\n",
       "              enable_categorical=False, eval_metric=None, feature_types=None,\n",
       "              gamma=1, gpu_id=None, grow_policy=None, importance_type=None,\n",
       "              interaction_constraints=[['car_cost'], ['rail_cost'], ['car_tt'],\n",
       "                                       ['rail_tt']],\n",
       "              learning_rate=None, max_bin=None, max_cat_threshold=None,\n",
       "              max_cat_to_onehot=None, max_delta_step=None, max_depth=1,\n",
       "              max_leaves=None, min_child_weight=None, missing=nan,\n",
       "              monotone_constraints=(-1, -1, -1, -1), n_estimators=100,\n",
       "              n_jobs=None, num_parallel_tree=None, predictor=None,\n",
       "              random_state=1, ...)"
      ]
     },
     "execution_count": 45,
     "metadata": {},
     "output_type": "execute_result"
    }
   ],
   "source": [
    "eval_set = [(X_train, y_train)]\n",
    "xgb_constrained.fit(X_train, y_train, eval_set=eval_set)"
   ]
  },
  {
   "cell_type": "code",
   "execution_count": 46,
   "id": "a35d19ba-052b-4b38-8399-3c89837d77ce",
   "metadata": {},
   "outputs": [
    {
     "data": {
      "text/plain": [
       "0.5652173913043478"
      ]
     },
     "execution_count": 46,
     "metadata": {},
     "output_type": "execute_result"
    }
   ],
   "source": [
    "y_pred=xgb_constrained.predict(X_validate)\n",
<<<<<<< HEAD
>>>>>>> f5251d1992fdb7862cc930cb4724d8fb3c4d26e6
=======
>>>>>>> parent of 2eb4853 (Binary problem on London dataset)
    "\n",
    "from sklearn.metrics import accuracy_score\n",
    "\n",
    "accuracy_score(y_validate, y_pred)"
   ]
  },
  {
   "cell_type": "markdown",
   "id": "21b4c4c0-cc87-457e-a52a-47dd3e3cb8f5",
   "metadata": {},
   "source": [
    "# Unconstrained model"
   ]
  },
  {
   "cell_type": "code",
<<<<<<< HEAD
<<<<<<< HEAD
   "execution_count": 8,
   "id": "af5057b3-64cb-4a4e-b436-c12fbff72fa0",
   "metadata": {},
   "outputs": [],
   "source": [
    "num_round = 100\n",
    "\n",
    "param_unc = {'max_depth': 1, \n",
    "         'objective': 'binary:logistic', \n",
    "         'lambda':0, \n",
    "         'alpha':0}"
=======
   "execution_count": 47,
   "id": "1b7d9556-278b-42a6-9e46-aaf8a4b2264e",
   "metadata": {},
   "outputs": [],
   "source": [
=======
   "execution_count": 47,
   "id": "1b7d9556-278b-42a6-9e46-aaf8a4b2264e",
   "metadata": {},
   "outputs": [],
   "source": [
>>>>>>> parent of 2eb4853 (Binary problem on London dataset)
    "xgb_unconstrained = xgb.XGBClassifier(#objective='binary:logistic', \n",
    "                                      learning_rate = 1,\n",
    "                                      n_estimators = 1000, \n",
    "                                      max_depth = 1, \n",
    "                                      random_state = 1,\n",
    "                                      reg_alpha = 0,\n",
    "                                      reg_lambda = 0\n",
    "                                     )"
<<<<<<< HEAD
>>>>>>> f5251d1992fdb7862cc930cb4724d8fb3c4d26e6
=======
>>>>>>> parent of 2eb4853 (Binary problem on London dataset)
   ]
  },
  {
   "cell_type": "code",
<<<<<<< HEAD
<<<<<<< HEAD
   "execution_count": 9,
   "id": "45448650-8304-4007-86b0-8d30060b1857",
   "metadata": {},
   "outputs": [
    {
     "name": "stdout",
     "output_type": "stream",
     "text": [
      "[0]\ttrain-logloss:0.65018\teval-logloss:0.65052\n",
      "[1]\ttrain-logloss:0.62826\teval-logloss:0.62860\n",
      "[2]\ttrain-logloss:0.61444\teval-logloss:0.61721\n",
      "[3]\ttrain-logloss:0.60301\teval-logloss:0.60754\n",
      "[4]\ttrain-logloss:0.59476\teval-logloss:0.60075\n",
      "[5]\ttrain-logloss:0.58773\teval-logloss:0.59330\n",
      "[6]\ttrain-logloss:0.58273\teval-logloss:0.58907\n",
      "[7]\ttrain-logloss:0.57808\teval-logloss:0.58571\n",
      "[8]\ttrain-logloss:0.57468\teval-logloss:0.58284\n",
      "[9]\ttrain-logloss:0.57123\teval-logloss:0.58021\n",
      "[10]\ttrain-logloss:0.56857\teval-logloss:0.57713\n",
      "[11]\ttrain-logloss:0.56624\teval-logloss:0.57502\n",
      "[12]\ttrain-logloss:0.56430\teval-logloss:0.57385\n",
      "[13]\ttrain-logloss:0.56245\teval-logloss:0.57319\n",
      "[14]\ttrain-logloss:0.56107\teval-logloss:0.57146\n",
      "[15]\ttrain-logloss:0.55975\teval-logloss:0.57075\n",
      "[16]\ttrain-logloss:0.55853\teval-logloss:0.56963\n",
      "[17]\ttrain-logloss:0.55722\teval-logloss:0.56863\n",
      "[18]\ttrain-logloss:0.55625\teval-logloss:0.56816\n",
      "[19]\ttrain-logloss:0.55512\teval-logloss:0.56765\n",
      "[20]\ttrain-logloss:0.55413\teval-logloss:0.56716\n",
      "[21]\ttrain-logloss:0.55332\teval-logloss:0.56659\n",
      "[22]\ttrain-logloss:0.55241\teval-logloss:0.56620\n",
      "[23]\ttrain-logloss:0.55163\teval-logloss:0.56559\n",
      "[24]\ttrain-logloss:0.55091\teval-logloss:0.56515\n",
      "[25]\ttrain-logloss:0.55017\teval-logloss:0.56380\n",
      "[26]\ttrain-logloss:0.54951\teval-logloss:0.56365\n",
      "[27]\ttrain-logloss:0.54886\teval-logloss:0.56340\n",
      "[28]\ttrain-logloss:0.54827\teval-logloss:0.56289\n",
      "[29]\ttrain-logloss:0.54771\teval-logloss:0.56253\n",
      "[30]\ttrain-logloss:0.54705\teval-logloss:0.56228\n",
      "[31]\ttrain-logloss:0.54660\teval-logloss:0.56223\n",
      "[32]\ttrain-logloss:0.54603\teval-logloss:0.56112\n",
      "[33]\ttrain-logloss:0.54560\teval-logloss:0.56086\n",
      "[34]\ttrain-logloss:0.54509\teval-logloss:0.56057\n",
      "[35]\ttrain-logloss:0.54468\teval-logloss:0.56054\n",
      "[36]\ttrain-logloss:0.54418\teval-logloss:0.56008\n",
      "[37]\ttrain-logloss:0.54379\teval-logloss:0.55995\n",
      "[38]\ttrain-logloss:0.54342\teval-logloss:0.55957\n",
      "[39]\ttrain-logloss:0.54305\teval-logloss:0.55900\n",
      "[40]\ttrain-logloss:0.54272\teval-logloss:0.55889\n",
      "[41]\ttrain-logloss:0.54228\teval-logloss:0.55879\n",
      "[42]\ttrain-logloss:0.54194\teval-logloss:0.55865\n",
      "[43]\ttrain-logloss:0.54161\teval-logloss:0.55849\n",
      "[44]\ttrain-logloss:0.54128\teval-logloss:0.55826\n",
      "[45]\ttrain-logloss:0.54096\teval-logloss:0.55827\n",
      "[46]\ttrain-logloss:0.54069\teval-logloss:0.55763\n",
      "[47]\ttrain-logloss:0.54034\teval-logloss:0.55763\n",
      "[48]\ttrain-logloss:0.54008\teval-logloss:0.55756\n",
      "[49]\ttrain-logloss:0.53984\teval-logloss:0.55743\n",
      "[50]\ttrain-logloss:0.53956\teval-logloss:0.55730\n",
      "[51]\ttrain-logloss:0.53929\teval-logloss:0.55722\n",
      "[52]\ttrain-logloss:0.53904\teval-logloss:0.55675\n",
      "[53]\ttrain-logloss:0.53878\teval-logloss:0.55676\n",
      "[54]\ttrain-logloss:0.53853\teval-logloss:0.55677\n",
      "[55]\ttrain-logloss:0.53831\teval-logloss:0.55670\n",
      "[56]\ttrain-logloss:0.53806\teval-logloss:0.55609\n",
      "[57]\ttrain-logloss:0.53786\teval-logloss:0.55611\n",
      "[58]\ttrain-logloss:0.53762\teval-logloss:0.55571\n",
      "[59]\ttrain-logloss:0.53740\teval-logloss:0.55578\n",
      "[60]\ttrain-logloss:0.53719\teval-logloss:0.55570\n",
      "[61]\ttrain-logloss:0.53699\teval-logloss:0.55561\n",
      "[62]\ttrain-logloss:0.53679\teval-logloss:0.55543\n",
      "[63]\ttrain-logloss:0.53659\teval-logloss:0.55546\n",
      "[64]\ttrain-logloss:0.53637\teval-logloss:0.55513\n",
      "[65]\ttrain-logloss:0.53618\teval-logloss:0.55495\n",
      "[66]\ttrain-logloss:0.53599\teval-logloss:0.55497\n",
      "[67]\ttrain-logloss:0.53580\teval-logloss:0.55455\n",
      "[68]\ttrain-logloss:0.53561\teval-logloss:0.55458\n",
      "[69]\ttrain-logloss:0.53542\teval-logloss:0.55421\n",
      "[70]\ttrain-logloss:0.53524\teval-logloss:0.55396\n",
      "[71]\ttrain-logloss:0.53505\teval-logloss:0.55399\n",
      "[72]\ttrain-logloss:0.53489\teval-logloss:0.55383\n"
     ]
    },
    {
     "name": "stderr",
     "output_type": "stream",
     "text": [
      "C:\\Users\\nicol\\anaconda3\\envs\\biogeme\\lib\\site-packages\\xgboost\\core.py:617: FutureWarning: Pass `evals` as keyword args.\n",
      "  warnings.warn(msg, FutureWarning)\n"
     ]
    },
    {
     "name": "stdout",
     "output_type": "stream",
     "text": [
      "[73]\ttrain-logloss:0.53472\teval-logloss:0.55382\n",
      "[74]\ttrain-logloss:0.53456\teval-logloss:0.55380\n",
      "[75]\ttrain-logloss:0.53441\teval-logloss:0.55367\n",
      "[76]\ttrain-logloss:0.53422\teval-logloss:0.55316\n",
      "[77]\ttrain-logloss:0.53407\teval-logloss:0.55320\n",
      "[78]\ttrain-logloss:0.53389\teval-logloss:0.55293\n",
      "[79]\ttrain-logloss:0.53372\teval-logloss:0.55300\n",
      "[80]\ttrain-logloss:0.53356\teval-logloss:0.55260\n",
      "[81]\ttrain-logloss:0.53339\teval-logloss:0.55265\n",
      "[82]\ttrain-logloss:0.53323\teval-logloss:0.55260\n",
      "[83]\ttrain-logloss:0.53310\teval-logloss:0.55256\n",
      "[84]\ttrain-logloss:0.53294\teval-logloss:0.55213\n",
      "[85]\ttrain-logloss:0.53281\teval-logloss:0.55217\n",
      "[86]\ttrain-logloss:0.53266\teval-logloss:0.55189\n",
      "[87]\ttrain-logloss:0.53253\teval-logloss:0.55195\n",
      "[88]\ttrain-logloss:0.53237\teval-logloss:0.55156\n",
      "[89]\ttrain-logloss:0.53224\teval-logloss:0.55158\n",
      "[90]\ttrain-logloss:0.53211\teval-logloss:0.55166\n",
      "[91]\ttrain-logloss:0.53198\teval-logloss:0.55175\n",
      "[92]\ttrain-logloss:0.53184\teval-logloss:0.55140\n",
      "[93]\ttrain-logloss:0.53171\teval-logloss:0.55146\n",
      "[94]\ttrain-logloss:0.53158\teval-logloss:0.55111\n",
      "[95]\ttrain-logloss:0.53145\teval-logloss:0.55113\n",
      "[96]\ttrain-logloss:0.53134\teval-logloss:0.55121\n",
      "[97]\ttrain-logloss:0.53120\teval-logloss:0.55121\n",
      "[98]\ttrain-logloss:0.53107\teval-logloss:0.55100\n",
      "[99]\ttrain-logloss:0.53095\teval-logloss:0.55109\n"
     ]
    }
   ],
   "source": [
    "xgb_unconstrained = xgb.train(param_unc, dtrain, num_round, evallist)"
   ]
  },
  {
   "cell_type": "code",
   "execution_count": 10,
   "id": "03c2ac61-e9fc-4e81-b709-b93f3071109c",
=======
   "execution_count": 48,
   "id": "85e9edcf-2edc-4a62-9eea-2a4205383928",
>>>>>>> f5251d1992fdb7862cc930cb4724d8fb3c4d26e6
=======
   "execution_count": 48,
   "id": "85e9edcf-2edc-4a62-9eea-2a4205383928",
>>>>>>> parent of 2eb4853 (Binary problem on London dataset)
   "metadata": {},
   "outputs": [
    {
     "data": {
      "text/plain": [
<<<<<<< HEAD
<<<<<<< HEAD
       "0.7322372284204345"
      ]
     },
     "execution_count": 10,
=======
       "XGBClassifier(base_score=None, booster=None, callbacks=None,\n",
       "              colsample_bylevel=None, colsample_bynode=None,\n",
       "              colsample_bytree=None, early_stopping_rounds=None,\n",
       "              enable_categorical=False, eval_metric=None, feature_types=None,\n",
       "              gamma=None, gpu_id=None, grow_policy=None, importance_type=None,\n",
       "              interaction_constraints=None, learning_rate=1, max_bin=None,\n",
       "              max_cat_threshold=None, max_cat_to_onehot=None,\n",
       "              max_delta_step=None, max_depth=1, max_leaves=None,\n",
       "              min_child_weight=None, missing=nan, monotone_constraints=None,\n",
       "              n_estimators=1000, n_jobs=None, num_parallel_tree=None,\n",
       "              predictor=None, random_state=1, ...)"
      ]
     },
     "execution_count": 48,
>>>>>>> f5251d1992fdb7862cc930cb4724d8fb3c4d26e6
=======
       "XGBClassifier(base_score=None, booster=None, callbacks=None,\n",
       "              colsample_bylevel=None, colsample_bynode=None,\n",
       "              colsample_bytree=None, early_stopping_rounds=None,\n",
       "              enable_categorical=False, eval_metric=None, feature_types=None,\n",
       "              gamma=None, gpu_id=None, grow_policy=None, importance_type=None,\n",
       "              interaction_constraints=None, learning_rate=1, max_bin=None,\n",
       "              max_cat_threshold=None, max_cat_to_onehot=None,\n",
       "              max_delta_step=None, max_depth=1, max_leaves=None,\n",
       "              min_child_weight=None, missing=nan, monotone_constraints=None,\n",
       "              n_estimators=1000, n_jobs=None, num_parallel_tree=None,\n",
       "              predictor=None, random_state=1, ...)"
      ]
     },
     "execution_count": 48,
>>>>>>> parent of 2eb4853 (Binary problem on London dataset)
     "metadata": {},
     "output_type": "execute_result"
    }
   ],
   "source": [
<<<<<<< HEAD
<<<<<<< HEAD
    "dtest = xgb.DMatrix(X_validate)\n",
    "\n",
    "y_pred_unc=np.rint(xgb_unconstrained.predict(dtest))\n",
    "\n",
    "accuracy_score(y_validate, y_pred_unc)"
   ]
  },
  {
   "cell_type": "markdown",
   "id": "0db1eca7-2eb5-4557-96ec-9d49ec303070",
   "metadata": {},
   "source": [
    "# RUM"
   ]
  },
  {
   "cell_type": "code",
   "execution_count": 15,
   "id": "0a1a8104-9250-4548-9bf8-aff9b06dc440",
   "metadata": {},
   "outputs": [
    {
     "name": "stdout",
     "output_type": "stream",
     "text": [
      "                  Value  Std err  t-test  p-value  Rob. Std err  Rob. t-test  \\\n",
      "ASC_CAR            0.54 0.000669     807        0      0.000669          807   \n",
      "BETA_COST_CAR -0.000101 0.000157  -0.643     0.52      0.000157       -0.643   \n",
      "BETA_COST_NC   0.000357 0.000325     1.1    0.272      0.000325          1.1   \n",
      "BETA_TT_CAR    -0.00619  0.00405   -1.53    0.126       0.00405        -1.53   \n",
      "BETA_TT_NC     -0.00768  0.00296   -2.59  0.00948       0.00296        -2.59   \n",
      "\n",
      "               Rob. p-value  \n",
      "ASC_CAR                   0  \n",
      "BETA_COST_CAR          0.52  \n",
      "BETA_COST_NC          0.272  \n",
      "BETA_TT_CAR           0.126  \n",
      "BETA_TT_NC          0.00948  \n",
      "Nbr of observations: 25226305\n",
      "LL(0) =    -16598064.274\n",
      "LL(beta) = -16598058.786\n",
      "rho bar square = 2.94e-08\n",
      "Output file: None\n"
     ]
    }
   ],
   "source": [
    "# Translated to .py by Yundi Zhang\n",
    "# Jan 2017\n",
    "# Adapted to PandasBiogeme by Michel Bierlaire\n",
    "# Sun Oct 21 23:00:22 2018\n",
    "\n",
    "import pandas as pd\n",
    "import biogeme.database as db\n",
    "import biogeme.biogeme as bio\n",
    "from biogeme.expressions import Beta, DefineVariable\n",
    "from biogeme.models import loglogit\n",
    "import biogeme.models as models\n",
    "import biogeme.messaging as msg\n",
    "\n",
    "#pandas = pd.read_csv(\"Data/data_for_biogeme_london.csv\")\n",
    "#database = db.Database(\"netherlands\",pandas)\n",
    "#df_train = pandas[pandas['survey_year']<3]\n",
    "#df_test = pandas[pandas['survey_year']==3]\n",
    "\n",
    "database = X.copy().reset_index(drop=True)\n",
    "choice = y.copy().reset_index(drop=True)\n",
    "choice = choice.rename(columns={'travel_mode':'choice'})\n",
    "data_for_biogeme = database.merge(choice)\n",
    "\n",
    "df_train = data_for_biogeme[data_for_biogeme['survey_year']<3]\n",
    "df_test = data_for_biogeme[data_for_biogeme['survey_year']==3]\n",
    "\n",
    "database_train = db.Database(\"london_train\", df_train)\n",
    "database_test = db.Database(\"london_test\", df_test)\n",
    "pd.options.display.float_format = '{:.3g}'.format\n",
    "\n",
    "globals().update(database_train.variables)\n",
    "\n",
    "#exclude = sp != 0\n",
    "#database.remove(exclude)\n",
    "#database_train.remove(exclude)\n",
    "#database_test.remove(exclude)\n",
    "\n",
    "# Parameters to be estimated\n",
    "# Arguments:\n",
    "#   1  Name for report. Typically, the same as the variable\n",
    "#   2  Starting value\n",
    "#   3  Lower bound\n",
    "#   4  Upper bound\n",
    "#   5  0: estimate the parameter, 1: keep it fixed\n",
    "ASC_CAR\t       = Beta('ASC_CAR',0,None,None,0)\n",
    "ASC_NC\t   = Beta('ASC_NC',0,None,None,1)\n",
    "BETA_COST_CAR  = Beta('BETA_COST_CAR',0,None,None,0)\n",
    "BETA_COST_NC = Beta('BETA_COST_NC',0,None,None,0)\n",
    "BETA_TT_CAR    = Beta('BETA_TT_CAR',0,None,None,0)\n",
    "BETA_TT_NC   = Beta('BETA_TT_NC',0,None,None,0)\n",
    "#BETA_TT_CAR\t = Beta('BETA_TT_CAR',0,None,None,0)\n",
    "#BETA_TT_RAIL = Beta('BETA_TT_RAIL',0,None,None,0)\n",
    "\n",
    "# Define here arithmetic expressions for name that are not directly available from the data\n",
    "#rail_time  = DefineVariable('rail_time',(  rail_ivtt   +  rail_acc_time   ) +  rail_egr_time  ,database_train)\n",
    "#car_time  = DefineVariable('car_time', car_ivtt   +  car_walk_time  ,database_train)\n",
    "#rate_G2E = DefineVariable('rate_G2E', 0.44378022,database_train)\n",
    "#car_cost_euro = DefineVariable('car_cost_euro', car_cost * rate_G2E,database_train)\n",
    "#rail_cost_euro = DefineVariable('rail_cost_euro', rail_cost * rate_G2E,database_train)\n",
    "\n",
    "#rail_time  = DefineVariable('rail_time',(  rail_ivtt   +  rail_acc_time   ) +  rail_egr_time  ,database_test)\n",
    "#car_time  = DefineVariable('car_time', car_ivtt   +  car_walk_time  ,database_test)\n",
    "#rate_G2E = DefineVariable('rate_G2E', 0.44378022,database_test)\n",
    "#car_cost_euro = DefineVariable('car_cost_euro', car_cost * rate_G2E,database_test)\n",
    "#rail_cost_euro = DefineVariable('rail_cost_euro', rail_cost * rate_G2E,database_test)\n",
    "\n",
    "# Utilities\n",
    "__Car = ASC_CAR  + BETA_COST_CAR * cost_driving_total + BETA_TT_CAR * dur_driving\n",
    "__Rail = ASC_NC + BETA_COST_NC * cost_transit + BETA_TT_NC * dur_non_driving\n",
    "__V = {0: __Car,1: __Rail}\n",
    "__av = {0: 1,1: 1}\n",
    "\n",
    "#__Car = ASC_CAR  + BETA_TT_CAR * dur_driving\n",
    "#__Rail = ASC_NC + BETA_TT_NC * dur_non_driving\n",
    "#__V = {0: __Car,1: __Rail}\n",
    "#__av = {0: 1,1: 1}\n",
    "\n",
    "# The choice model is a logit, with availability conditions\n",
    "logprob = loglogit(__V,__av,choice)\n",
    "biogeme  = bio.BIOGEME(database_train,logprob)\n",
    "biogeme.modelName = \"binary_london\"\n",
    "biogeme.generateHtml = False\n",
    "biogeme.generatePickle = False\n",
    "\n",
    "results = biogeme.estimate()\n",
    "\n",
    "#define level of verbosity\n",
    "logger = msg.bioMessage()\n",
    "logger.setDetailed()\n",
    "\n",
    "# Get the results in a pandas table\n",
    "pandasResults = results.getEstimatedParameters()\n",
    "print(pandasResults)\n",
    "print(f\"Nbr of observations: {database_train.getNumberOfObservations()}\")\n",
    "print(f\"LL(0) =    {results.data.initLogLike:.3f}\")\n",
    "print(f\"LL(beta) = {results.data.logLike:.3f}\")\n",
    "print(f\"rho bar square = {results.data.rhoBarSquare:.3g}\")\n",
    "print(f\"Output file: {results.data.htmlFileName}\")"
   ]
  },
  {
   "cell_type": "code",
   "execution_count": 16,
   "id": "40e9c0d2-fb61-41f9-a44b-b1b240f7ec28",
   "metadata": {},
   "outputs": [],
   "source": [
    "pandasResults.to_csv('Data/binary_london_results.csv')"
   ]
  },
  {
   "cell_type": "code",
   "execution_count": 17,
   "id": "e1c3f279-18f8-49f0-8698-05a7267fa5fc",
   "metadata": {},
   "outputs": [
    {
     "name": "stdout",
     "output_type": "stream",
     "text": [
      "[11:44:03] < General >   Remove 5 unused variables from the database as only 4 are used.\n",
      "Predicted        0\n",
      "Actual            \n",
      "0          7145788\n",
      "1          4455048\n",
      "Global accuracy of the model: 0.6159718144450969\n"
     ]
    }
   ],
   "source": [
    "globals().update(database_test.variables)\n",
    "\n",
    "prob_car = models.logit(__V, __av, 0)\n",
    "prob_nc = models.logit(__V, __av, 1)\n",
    "\n",
    "simulate ={'Prob. car': prob_car,\n",
    "           'Prob. NC':  prob_nc}\n",
    "\n",
    "biogeme = bio.BIOGEME(database_test, simulate)\n",
    "biogeme.modelName = \"london_logit_test\"\n",
    "\n",
    "betas = biogeme.freeBetaNames\n",
    "\n",
    "betaValues = results.getBetaValues()\n",
    "\n",
    "simulatedValues = biogeme.simulate(betaValues)\n",
    "\n",
    "prob_max = simulatedValues.idxmax(axis=1)\n",
    "prob_max = prob_max.replace({'Prob. car': 0, 'Prob. NC': 1})\n",
    "\n",
    "data = {'y_Actual':    df_test['choice'],\n",
    "        'y_Predicted': prob_max\n",
    "        }\n",
    "\n",
    "df = pd.DataFrame(data, columns=['y_Actual','y_Predicted'])\n",
    "confusion_matrix = pd.crosstab(df['y_Actual'], df['y_Predicted'], rownames=['Actual'], colnames=['Predicted'])\n",
    "\n",
    "print(confusion_matrix)\n",
    "\n",
    "accuracy = np.diagonal(confusion_matrix.to_numpy()).sum()/confusion_matrix.to_numpy().sum()\n",
    "print('Global accuracy of the model:', accuracy)"
   ]
  },
  {
   "cell_type": "code",
   "execution_count": 11,
   "id": "575970a9-69f2-43bb-9bc0-1c2a307c6353",
   "metadata": {},
   "outputs": [],
   "source": [
    "pandasResults = pd.read_csv('Data/binary_london_results.csv', index_col=0)"
   ]
  },
  {
   "cell_type": "code",
   "execution_count": 18,
   "id": "c0dd57da-b7d4-488f-a891-42f342ef8de7",
   "metadata": {},
   "outputs": [],
   "source": [
    "BETA_COST_CAR = pandasResults.loc['BETA_COST_CAR', 'Value']\n",
    "BETA_COST_NC = pandasResults.loc['BETA_COST_NC', 'Value']\n",
    "BETA_TT_CAR = pandasResults.loc['BETA_TT_CAR', 'Value']\n",
    "BETA_TT_NC = pandasResults.loc['BETA_TT_NC', 'Value']"
   ]
  },
  {
   "cell_type": "code",
   "execution_count": 19,
   "id": "f1ae3a37-4c29-435f-ad2e-c90cbafd737f",
   "metadata": {},
   "outputs": [
    {
     "data": {
      "image/png": "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\n",
      "text/plain": [
       "<Figure size 720x432 with 1 Axes>"
      ]
     },
     "metadata": {},
     "output_type": "display_data"
    },
    {
     "data": {
      "image/png": "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\n",
      "text/plain": [
       "<Figure size 720x432 with 1 Axes>"
      ]
     },
     "metadata": {},
     "output_type": "display_data"
    },
    {
     "data": {
      "image/png": "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\n",
      "text/plain": [
       "<Figure size 720x432 with 1 Axes>"
      ]
     },
     "metadata": {},
     "output_type": "display_data"
    },
    {
     "data": {
      "image/png": "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\n",
      "text/plain": [
       "<Figure size 720x432 with 1 Axes>"
      ]
     },
     "metadata": {},
     "output_type": "display_data"
    }
   ],
   "source": [
    "from NonlinearUtilityFunction import plotHisto\n",
    "\n",
    "plotHisto(xgb_constrained, X, ['h', 'gbp', 'h',  'gbp'], Betas = [BETA_TT_NC, BETA_COST_CAR, BETA_TT_CAR, BETA_COST_NC ], model_unconstrained =xgb_unconstrained)"
   ]
  },
  {
   "cell_type": "code",
   "execution_count": 32,
   "id": "c6bea93a-766e-461c-a353-f48436a65894",
   "metadata": {},
   "outputs": [
    {
     "data": {
      "image/png": "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\n",
      "text/plain": [
       "<Figure size 720x432 with 1 Axes>"
      ]
     },
     "metadata": {},
     "output_type": "display_data"
    },
    {
     "data": {
      "image/png": "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\n",
      "text/plain": [
       "<Figure size 720x432 with 1 Axes>"
      ]
     },
     "metadata": {},
     "output_type": "display_data"
    }
   ],
   "source": [
    "plotHisto(xgb_constrained, X, ['h', 'h'], Betas = [BETA_TT_CAR, BETA_TT_NC], model_unconstrained =xgb_unconstrained)"
   ]
  },
  {
   "cell_type": "code",
   "execution_count": null,
   "id": "038418c6-bbe7-43c0-8af2-b402757bdbaa",
   "metadata": {},
   "outputs": [],
   "source": []
=======
    "xgb_unconstrained.fit(X_train, y_train)"
   ]
  },
  {
   "cell_type": "code",
   "execution_count": 49,
   "id": "ac3d80d5-f9ac-4a31-a389-253d0f372860",
   "metadata": {},
   "outputs": [
    {
     "data": {
      "text/plain": [
       "0.6304347826086957"
      ]
     },
     "execution_count": 49,
     "metadata": {},
     "output_type": "execute_result"
    }
   ],
   "source": [
    "y_pred_unc=xgb_unconstrained.predict(X_validate)\n",
    "\n",
    "accuracy_score(y_validate, y_pred_unc)"
   ]
>>>>>>> f5251d1992fdb7862cc930cb4724d8fb3c4d26e6
=======
    "xgb_unconstrained.fit(X_train, y_train)"
   ]
  },
  {
   "cell_type": "code",
   "execution_count": 49,
   "id": "ac3d80d5-f9ac-4a31-a389-253d0f372860",
   "metadata": {},
   "outputs": [
    {
     "data": {
      "text/plain": [
       "0.6304347826086957"
      ]
     },
     "execution_count": 49,
     "metadata": {},
     "output_type": "execute_result"
    }
   ],
   "source": [
    "y_pred_unc=xgb_unconstrained.predict(X_validate)\n",
    "\n",
    "accuracy_score(y_validate, y_pred_unc)"
   ]
>>>>>>> parent of 2eb4853 (Binary problem on London dataset)
  }
 ],
 "metadata": {
  "kernelspec": {
   "display_name": "Python [conda env:biogeme]",
   "language": "python",
   "name": "conda-env-biogeme-py"
  },
  "language_info": {
   "codemirror_mode": {
    "name": "ipython",
    "version": 3
   },
   "file_extension": ".py",
   "mimetype": "text/x-python",
   "name": "python",
   "nbconvert_exporter": "python",
   "pygments_lexer": "ipython3",
   "version": "3.9.7"
  }
 },
 "nbformat": 4,
 "nbformat_minor": 5
}
