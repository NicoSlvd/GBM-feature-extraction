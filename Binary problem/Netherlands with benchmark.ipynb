{
 "cells": [
  {
   "cell_type": "code",
   "execution_count": 88,
   "id": "7267dcc3-26a8-4a06-a127-0fdc1c9201db",
   "metadata": {},
   "outputs": [],
   "source": [
    "import numpy as np\n",
    "import pandas as pd\n",
    "import biogeme\n",
    "import sklearn\n",
    "import seaborn as sns\n",
    "import matplotlib.pyplot as plt"
   ]
  },
  {
   "cell_type": "code",
   "execution_count": 2,
   "id": "b918ca78-433d-41a9-83a0-f54cf2c266f0",
   "metadata": {},
   "outputs": [
    {
     "name": "stdout",
     "output_type": "stream",
     "text": [
      "           Value  Std err  t-test  p-value  Rob. Std err  Rob. t-test  \\\n",
      "ASC_CAR   -0.798     0.27   -2.95  0.00315         0.275         -2.9   \n",
      "BETA_COST -0.113   0.0232   -4.85 1.21e-06        0.0241        -4.67   \n",
      "BETA_TT    -1.33    0.344   -3.86 0.000115         0.354        -3.75   \n",
      "\n",
      "           Rob. p-value  \n",
      "ASC_CAR         0.00379  \n",
      "BETA_COST      3.03e-06  \n",
      "BETA_TT         0.00018  \n",
      "Nbr of observations: 228\n",
      "LL(0) =    -158.038\n",
      "LL(beta) = -123.133\n",
      "rho bar square = 0.202\n",
      "Output file: binary_specific_netherlands.html\n"
     ]
    }
   ],
   "source": [
    "#Benchmark\n",
    "\n",
    "%run -i \"binary_specific_netherlands.py\""
   ]
  },
  {
   "cell_type": "code",
   "execution_count": 89,
   "id": "3519fe7c-d051-43fe-96b5-6792492ecadb",
   "metadata": {},
   "outputs": [],
   "source": [
    "ned_data_rp = pd.read_table(\"Data/netherlandsRP.dat\")\n",
    "\n",
    "X = ned_data_rp[['car_cost', 'rail_cost', 'car_ivtt', 'car_walk_time', 'rail_ivtt', 'rail_acc_time', 'rail_egr_time']]\n",
    "X_updt = X.copy()\n",
    "X_updt['car_tt'] = X['car_ivtt'] +X['car_walk_time']\n",
    "X_updt['rail_tt'] = X['rail_ivtt'] +X['rail_acc_time'] +X['rail_egr_time']\n",
    "\n",
    "rate_G2E = 0.44378022\n",
    "X_updt['car_cost'] = X_updt['car_cost'] * rate_G2E\n",
    "X_updt['rail_cost'] = X_updt['rail_cost'] * rate_G2E\n",
    "X_updt = X_updt.drop(columns=['car_ivtt', 'car_walk_time', 'rail_ivtt', 'rail_acc_time', 'rail_egr_time'])\n",
    "\n",
    "y = ned_data_rp['choice']"
   ]
  },
  {
   "cell_type": "code",
   "execution_count": 4,
   "id": "4dd97450-5b55-41d5-923f-43dd19223694",
   "metadata": {},
   "outputs": [],
   "source": [
    "from sklearn.model_selection import train_test_split\n",
    "\n",
    "X_train, X_validate, y_train, y_validate = train_test_split(X_updt, y, test_size=0.20, random_state=42)"
   ]
  },
  {
   "cell_type": "code",
   "execution_count": 5,
   "id": "9c5846a8-e1ca-4159-8893-fc3cef631134",
   "metadata": {},
   "outputs": [],
   "source": [
    "import xgboost as xgb \n",
    "\n",
    "xgb_constrained = xgb.XGBClassifier(#objective='binary:logistic', \n",
    "                                    #learning_rate = 0.2,\n",
    "                                    n_estimators = 100, \n",
    "                                    max_depth = 1, \n",
    "                                    random_state = 42,\n",
    "                                    monotone_constraints = (-1, -1, -1, -1),\n",
    "                                    interaction_constraints = [[\"car_cost\"], [\"rail_cost\"], [\"car_tt\"], [\"rail_tt\"]]\n",
    "                                   )"
   ]
  },
  {
   "cell_type": "code",
   "execution_count": 6,
   "id": "49b1745c-0138-4448-98c6-bc74f0a9a707",
   "metadata": {},
   "outputs": [],
   "source": [
    "#xgb_constrained.get_params()"
   ]
  },
  {
   "cell_type": "code",
   "execution_count": 7,
   "id": "77fb27bd-f746-43fb-bdc2-0b534ac7ded2",
   "metadata": {},
   "outputs": [
    {
     "name": "stdout",
     "output_type": "stream",
     "text": [
      "[0]\tvalidation_0-logloss:0.69091\n",
      "[1]\tvalidation_0-logloss:0.68542\n",
      "[2]\tvalidation_0-logloss:0.67584\n",
      "[3]\tvalidation_0-logloss:0.68054\n",
      "[4]\tvalidation_0-logloss:0.68116\n",
      "[5]\tvalidation_0-logloss:0.68812\n",
      "[6]\tvalidation_0-logloss:0.69205\n",
      "[7]\tvalidation_0-logloss:0.68770\n",
      "[8]\tvalidation_0-logloss:0.69072\n",
      "[9]\tvalidation_0-logloss:0.69086\n",
      "[10]\tvalidation_0-logloss:0.69321\n",
      "[11]\tvalidation_0-logloss:0.69635\n",
      "[12]\tvalidation_0-logloss:0.69368\n",
      "[13]\tvalidation_0-logloss:0.69369\n",
      "[14]\tvalidation_0-logloss:0.69517\n",
      "[15]\tvalidation_0-logloss:0.69642\n",
      "[16]\tvalidation_0-logloss:0.69647\n",
      "[17]\tvalidation_0-logloss:0.69506\n",
      "[18]\tvalidation_0-logloss:0.69596\n",
      "[19]\tvalidation_0-logloss:0.69709\n",
      "[20]\tvalidation_0-logloss:0.69615\n",
      "[21]\tvalidation_0-logloss:0.69677\n",
      "[22]\tvalidation_0-logloss:0.69679\n",
      "[23]\tvalidation_0-logloss:0.69736\n",
      "[24]\tvalidation_0-logloss:0.69782\n",
      "[25]\tvalidation_0-logloss:0.69830\n",
      "[26]\tvalidation_0-logloss:0.69889\n",
      "[27]\tvalidation_0-logloss:0.69834\n",
      "[28]\tvalidation_0-logloss:0.69874\n",
      "[29]\tvalidation_0-logloss:0.69906\n",
      "[30]\tvalidation_0-logloss:0.69905\n",
      "[31]\tvalidation_0-logloss:0.69939\n",
      "[32]\tvalidation_0-logloss:0.69976\n",
      "[33]\tvalidation_0-logloss:0.70006\n",
      "[34]\tvalidation_0-logloss:0.70029\n",
      "[35]\tvalidation_0-logloss:0.70054\n",
      "[36]\tvalidation_0-logloss:0.70053\n",
      "[37]\tvalidation_0-logloss:0.70074\n",
      "[38]\tvalidation_0-logloss:0.70092\n",
      "[39]\tvalidation_0-logloss:0.70107\n",
      "[40]\tvalidation_0-logloss:0.70081\n",
      "[41]\tvalidation_0-logloss:0.70103\n",
      "[42]\tvalidation_0-logloss:0.70122\n",
      "[43]\tvalidation_0-logloss:0.70134\n",
      "[44]\tvalidation_0-logloss:0.70149\n",
      "[45]\tvalidation_0-logloss:0.70161\n",
      "[46]\tvalidation_0-logloss:0.70171\n",
      "[47]\tvalidation_0-logloss:0.70170\n",
      "[48]\tvalidation_0-logloss:0.70183\n",
      "[49]\tvalidation_0-logloss:0.70199\n",
      "[50]\tvalidation_0-logloss:0.70210\n",
      "[51]\tvalidation_0-logloss:0.70219\n",
      "[52]\tvalidation_0-logloss:0.70239\n",
      "[53]\tvalidation_0-logloss:0.70226\n",
      "[54]\tvalidation_0-logloss:0.70235\n",
      "[55]\tvalidation_0-logloss:0.70243\n",
      "[56]\tvalidation_0-logloss:0.70251\n",
      "[57]\tvalidation_0-logloss:0.70259\n",
      "[58]\tvalidation_0-logloss:0.70269\n",
      "[59]\tvalidation_0-logloss:0.70275\n",
      "[60]\tvalidation_0-logloss:0.70282\n",
      "[61]\tvalidation_0-logloss:0.70295\n",
      "[62]\tvalidation_0-logloss:0.70301\n",
      "[63]\tvalidation_0-logloss:0.70306\n",
      "[64]\tvalidation_0-logloss:0.70312\n",
      "[65]\tvalidation_0-logloss:0.70304\n",
      "[66]\tvalidation_0-logloss:0.70308\n",
      "[67]\tvalidation_0-logloss:0.70314\n",
      "[68]\tvalidation_0-logloss:0.70320\n",
      "[69]\tvalidation_0-logloss:0.70323\n",
      "[70]\tvalidation_0-logloss:0.70328\n",
      "[71]\tvalidation_0-logloss:0.70331\n",
      "[72]\tvalidation_0-logloss:0.70340\n",
      "[73]\tvalidation_0-logloss:0.70344\n",
      "[74]\tvalidation_0-logloss:0.70343\n",
      "[75]\tvalidation_0-logloss:0.70346\n",
      "[76]\tvalidation_0-logloss:0.70349\n",
      "[77]\tvalidation_0-logloss:0.70352\n",
      "[78]\tvalidation_0-logloss:0.70348\n",
      "[79]\tvalidation_0-logloss:0.70350\n",
      "[80]\tvalidation_0-logloss:0.70354\n",
      "[81]\tvalidation_0-logloss:0.70357\n",
      "[82]\tvalidation_0-logloss:0.70359\n",
      "[83]\tvalidation_0-logloss:0.70364\n",
      "[84]\tvalidation_0-logloss:0.70366\n",
      "[85]\tvalidation_0-logloss:0.70368\n",
      "[86]\tvalidation_0-logloss:0.70369\n",
      "[87]\tvalidation_0-logloss:0.70371\n",
      "[88]\tvalidation_0-logloss:0.70374\n",
      "[89]\tvalidation_0-logloss:0.70372\n",
      "[90]\tvalidation_0-logloss:0.70373\n",
      "[91]\tvalidation_0-logloss:0.70375\n",
      "[92]\tvalidation_0-logloss:0.70378\n",
      "[93]\tvalidation_0-logloss:0.70379\n",
      "[94]\tvalidation_0-logloss:0.70381\n",
      "[95]\tvalidation_0-logloss:0.70382\n",
      "[96]\tvalidation_0-logloss:0.70383\n",
      "[97]\tvalidation_0-logloss:0.70385\n",
      "[98]\tvalidation_0-logloss:0.70386\n",
      "[99]\tvalidation_0-logloss:0.70385\n"
     ]
    },
    {
     "data": {
      "text/plain": [
       "XGBClassifier(base_score=None, booster=None, callbacks=None,\n",
       "              colsample_bylevel=None, colsample_bynode=None,\n",
       "              colsample_bytree=None, early_stopping_rounds=None,\n",
       "              enable_categorical=False, eval_metric=None, feature_types=None,\n",
       "              gamma=None, gpu_id=None, grow_policy=None, importance_type=None,\n",
       "              interaction_constraints=[['car_cost'], ['rail_cost'], ['car_tt'],\n",
       "                                       ['rail_tt']],\n",
       "              learning_rate=None, max_bin=None, max_cat_threshold=None,\n",
       "              max_cat_to_onehot=None, max_delta_step=None, max_depth=1,\n",
       "              max_leaves=None, min_child_weight=None, missing=nan,\n",
       "              monotone_constraints=(-1, -1, -1, -1), n_estimators=100,\n",
       "              n_jobs=None, num_parallel_tree=None, predictor=None,\n",
       "              random_state=42, ...)"
      ]
     },
     "execution_count": 7,
     "metadata": {},
     "output_type": "execute_result"
    }
   ],
   "source": [
    "eval_set = [(X_validate, y_validate)]\n",
    "xgb_constrained.fit(X_train, y_train, eval_set=eval_set)"
   ]
  },
  {
   "cell_type": "code",
   "execution_count": 8,
   "id": "a35d19ba-052b-4b38-8399-3c89837d77ce",
   "metadata": {},
   "outputs": [
    {
     "data": {
      "text/plain": [
       "0.5869565217391305"
      ]
     },
     "execution_count": 8,
     "metadata": {},
     "output_type": "execute_result"
    }
   ],
   "source": [
    "y_pred=xgb_constrained.predict(X_validate)\n",
    "\n",
    "from sklearn.metrics import accuracy_score\n",
    "\n",
    "accuracy_score(y_validate, y_pred)"
   ]
  },
  {
   "cell_type": "code",
   "execution_count": 11,
   "id": "909fa3e5-dbb5-47ea-87f9-e3c1d88db6d4",
   "metadata": {},
   "outputs": [],
   "source": [
    "from xgbfir_modified import getHistoData\n",
    "\n",
    "histoData = getHistoData(xgb_constrained)"
   ]
  },
  {
   "cell_type": "code",
   "execution_count": 13,
   "id": "ef775b11-697c-44ca-8f1b-5471c9d04947",
   "metadata": {},
   "outputs": [],
   "source": [
    "histoData_df = pd.DataFrame(np.reshape(getHistoData(xgb_constrained), (-1, 4)), columns= ['Feature', 'Split point', 'Left leaf value', 'Right leaf value'])"
   ]
  },
  {
   "cell_type": "code",
   "execution_count": 15,
   "id": "55a480f1-870e-48c8-8df4-7646a4302d96",
   "metadata": {},
   "outputs": [
    {
     "data": {
      "text/plain": [
       "array(['rail_tt', 'rail_cost', 'car_tt', 'car_cost'], dtype=object)"
      ]
     },
     "execution_count": 15,
     "metadata": {},
     "output_type": "execute_result"
    }
   ],
   "source": [
    "histoData_df['Feature'] == 'rail_cost"
   ]
  },
  {
   "cell_type": "code",
   "execution_count": 76,
   "id": "415cf3eb-39f0-4a7e-bb6a-4fd0aacc7a8c",
   "metadata": {},
   "outputs": [],
   "source": [
    "def arrangeHistoDataForPlot(data):\n",
    "    \n",
    "    histoDataForPlot = {}\n",
    "    for f in data.Feature.unique():\n",
    "        split_points = []\n",
    "        histo_value = [0]\n",
    "        final_histo = []\n",
    "        \n",
    "        specHistFeature = data[data.Feature == f]\n",
    "        orderData = specHistFeature.sort_values(by = ['Split point'], ignore_index = True)\n",
    "        for i, s in enumerate(orderData['Split point']):\n",
    "            if s not in split_points:\n",
    "                split_points.append(s)\n",
    "                right_side = [histo_value[-1] + float(orderData.loc[i, 'Right leaf value'])]\n",
    "                left_side = [h + float(orderData.loc[i, 'Left leaf value']) for h in histo_value]\n",
    "                histo_value = left_side + right_side\n",
    "            else:\n",
    "                left_side = [h + float(orderData.loc[i, 'Left leaf value']) for h in histo_value[:-1]]\n",
    "                right_side = [histo_value[-1] + float(orderData.loc[i, 'Right leaf value'])]\n",
    "                histo_value = left_side + right_side\n",
    "                \n",
    "        histoDataForPlot[f] = {'Splitting points': split_points,\n",
    "                               'Histogram values': histo_value}\n",
    "        \n",
    "    return histoDataForPlot\n",
    "                \n",
    "        "
   ]
  },
  {
   "cell_type": "code",
   "execution_count": 85,
   "id": "248b5c76-058b-4f9f-ab76-4ef2664fe454",
   "metadata": {},
   "outputs": [
    {
     "data": {
      "text/plain": [
       "2"
      ]
     },
     "execution_count": 85,
     "metadata": {},
     "output_type": "execute_result"
    }
   ],
   "source": [
    "len(a['rail_tt']['Splitting points'])"
   ]
  },
  {
   "cell_type": "code",
   "execution_count": null,
   "id": "f8e7bb27-100d-4092-82c0-1b1ce6494bd4",
   "metadata": {},
   "outputs": [],
   "source": [
    "np.linspace(x_min, x_max, num_points)"
   ]
  },
  {
   "cell_type": "code",
   "execution_count": 99,
   "id": "5a0d2a79-74cf-434d-8967-ccc46a0495d6",
   "metadata": {},
   "outputs": [],
   "source": [
    "def buildHistoLine(split_value_histo, x_min, x_max, num_points):\n",
    "    \n",
    "    x_values = np.linspace(x_min, x_max, num_points)\n",
    "    histo_line = []\n",
    "    i = 0\n",
    "    max_i = len(split_value_histo['Splitting points'])\n",
    "    for x in x_values:\n",
    "        if x < float(split_value_histo['Splitting points'][i]):\n",
    "            histo_line += [float(split_value_histo['Histogram values'][i])]\n",
    "        else:\n",
    "            histo_line += [float(split_value_histo['Histogram values'][i+1])]\n",
    "            if i < max_i-1:\n",
    "                i+=1\n",
    "    \n",
    "    return x_values, histo_line\n",
    "        \n",
    "        "
   ]
  },
  {
   "cell_type": "code",
   "execution_count": 102,
   "id": "e1ee7896-28d2-4152-b810-0a3002f5db0b",
   "metadata": {},
   "outputs": [],
   "source": [
    "def plotHisto(data, X):\n",
    "    \n",
    "    dict_histograms = arrangeHistoDataForPlot(data)\n",
    "    \n",
    "    for f in data.Feature.unique():\n",
    "        \n",
    "        x, histo_line = buildHistoLine(dict_histograms[f], 0, 1.25*max(X[f]), 100)\n",
    "        \n",
    "        plt.figure(figsize=(10, 6))\n",
    "        sns.lineplot(x, histo_line)"
   ]
  },
  {
   "cell_type": "code",
   "execution_count": 103,
   "id": "c6bea93a-766e-461c-a353-f48436a65894",
   "metadata": {},
   "outputs": [
    {
     "name": "stderr",
     "output_type": "stream",
     "text": [
      "C:\\Users\\nicol\\anaconda3\\envs\\biogeme\\lib\\site-packages\\seaborn\\_decorators.py:36: FutureWarning: Pass the following variables as keyword args: x, y. From version 0.12, the only valid positional argument will be `data`, and passing other arguments without an explicit keyword will result in an error or misinterpretation.\n",
      "  warnings.warn(\n",
      "C:\\Users\\nicol\\anaconda3\\envs\\biogeme\\lib\\site-packages\\seaborn\\_decorators.py:36: FutureWarning: Pass the following variables as keyword args: x, y. From version 0.12, the only valid positional argument will be `data`, and passing other arguments without an explicit keyword will result in an error or misinterpretation.\n",
      "  warnings.warn(\n",
      "C:\\Users\\nicol\\anaconda3\\envs\\biogeme\\lib\\site-packages\\seaborn\\_decorators.py:36: FutureWarning: Pass the following variables as keyword args: x, y. From version 0.12, the only valid positional argument will be `data`, and passing other arguments without an explicit keyword will result in an error or misinterpretation.\n",
      "  warnings.warn(\n",
      "C:\\Users\\nicol\\anaconda3\\envs\\biogeme\\lib\\site-packages\\seaborn\\_decorators.py:36: FutureWarning: Pass the following variables as keyword args: x, y. From version 0.12, the only valid positional argument will be `data`, and passing other arguments without an explicit keyword will result in an error or misinterpretation.\n",
      "  warnings.warn(\n"
     ]
    },
    {
     "data": {
      "image/png": "[encoded data removed]",
      "text/plain": [
       "<Figure size 720x432 with 1 Axes>"
      ]
     },
     "metadata": {
      "needs_background": "light"
     },
     "output_type": "display_data"
    },
    {
     "data": {
      "image/png": "[encoded data removed]",
      "text/plain": [
       "<Figure size 720x432 with 1 Axes>"
      ]
     },
     "metadata": {
      "needs_background": "light"
     },
     "output_type": "display_data"
    },
    {
     "data": {
      "image/png": "[encoded data removed]",
      "text/plain": [
       "<Figure size 720x432 with 1 Axes>"
      ]
     },
     "metadata": {
      "needs_background": "light"
     },
     "output_type": "display_data"
    },
    {
     "data": {
      "image/png": "[encoded data removed]",
      "text/plain": [
       "<Figure size 720x432 with 1 Axes>"
      ]
     },
     "metadata": {
      "needs_background": "light"
     },
     "output_type": "display_data"
    }
   ],
   "source": [
    "plotHisto(histoData_df, X_updt)"
   ]
  },
  {
   "cell_type": "code",
   "execution_count": 12,
   "id": "3acdef9e-f781-4d8b-8ebb-65da81d79ee4",
   "metadata": {
    "tags": []
   },
   "outputs": [],
   "source": [
    "import xgbfir\n",
    "\n",
    "xgbfir.saveXgbFI(xgb_constrained, OutputXlsxFile='Not_modified.xlsx')"
   ]
  },
  {
   "cell_type": "code",
   "execution_count": 12,
   "id": "ed7cb6bb-2a21-4854-80c4-642f496751fe",
   "metadata": {
    "tags": []
   },
   "outputs": [
    {
     "name": "stdout",
     "output_type": "stream",
     "text": [
      "[0]\tvalidation_0-logloss:0.69091\n",
      "[1]\tvalidation_0-logloss:0.68542\n",
      "[2]\tvalidation_0-logloss:0.67584\n",
      "[3]\tvalidation_0-logloss:0.68054\n",
      "[4]\tvalidation_0-logloss:0.68116\n",
      "0.5652173913043478\n"
     ]
    }
   ],
   "source": [
    "%run -i \"getHisto.py\"\n",
    "histoData"
   ]
  }
 ],
 "metadata": {
  "kernelspec": {
   "display_name": "Python [conda env:biogeme]",
   "language": "python",
   "name": "conda-env-biogeme-py"
  },
  "language_info": {
   "codemirror_mode": {
    "name": "ipython",
    "version": 3
   },
   "file_extension": ".py",
   "mimetype": "text/x-python",
   "name": "python",
   "nbconvert_exporter": "python",
   "pygments_lexer": "ipython3",
   "version": "3.9.7"
  }
 },
 "nbformat": 4,
 "nbformat_minor": 5
}
