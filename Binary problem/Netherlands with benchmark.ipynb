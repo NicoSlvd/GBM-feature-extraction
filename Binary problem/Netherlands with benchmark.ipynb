{
 "cells": [
  {
   "cell_type": "code",
   "execution_count": null,
   "id": "7267dcc3-26a8-4a06-a127-0fdc1c9201db",
   "metadata": {},
   "outputs": [],
   "source": [
    "import numpy as np\n",
    "import pandas as pd\n",
    "import biogeme\n",
    "import sklearn"
   ]
  },
  {
   "cell_type": "code",
   "execution_count": 6,
   "id": "b918ca78-433d-41a9-83a0-f54cf2c266f0",
   "metadata": {},
   "outputs": [
    {
     "name": "stdout",
     "output_type": "stream",
     "text": [
      "           Value  Std err  t-test  p-value  Rob. Std err  Rob. t-test  \\\n",
      "ASC_CAR   -0.798     0.27   -2.95  0.00315         0.275         -2.9   \n",
      "BETA_COST -0.113   0.0232   -4.85 1.21e-06        0.0241        -4.67   \n",
      "BETA_TT    -1.33    0.344   -3.86 0.000115         0.354        -3.75   \n",
      "\n",
      "           Rob. p-value  \n",
      "ASC_CAR         0.00379  \n",
      "BETA_COST      3.03e-06  \n",
      "BETA_TT         0.00018  \n",
      "Nbr of observations: 228\n",
      "LL(0) =    -158.038\n",
      "LL(beta) = -123.133\n",
      "rho bar square = 0.202\n",
      "Output file: biogemeModelDefaultName.html\n"
     ]
    }
   ],
   "source": [
    "#Benchmark\n",
    "\n",
    "%run -i \"binary_specific_netherlands.py\""
   ]
  },
  {
   "cell_type": "code",
   "execution_count": null,
   "id": "3519fe7c-d051-43fe-96b5-6792492ecadb",
   "metadata": {},
   "outputs": [],
   "source": []
  }
 ],
 "metadata": {
  "kernelspec": {
   "display_name": "Python [conda env:biogeme]",
   "language": "python",
   "name": "conda-env-biogeme-py"
  },
  "language_info": {
   "codemirror_mode": {
    "name": "ipython",
    "version": 3
   },
   "file_extension": ".py",
   "mimetype": "text/x-python",
   "name": "python",
   "nbconvert_exporter": "python",
   "pygments_lexer": "ipython3",
   "version": "3.9.7"
  }
 },
 "nbformat": 4,
 "nbformat_minor": 5
}
