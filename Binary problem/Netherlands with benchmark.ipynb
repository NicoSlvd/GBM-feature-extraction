{
 "cells": [
  {
   "cell_type": "code",
   "execution_count": 1,
   "id": "7267dcc3-26a8-4a06-a127-0fdc1c9201db",
   "metadata": {},
   "outputs": [],
   "source": [
    "import numpy as np\n",
    "import pandas as pd\n",
    "import biogeme\n",
    "import sklearn"
   ]
  },
  {
   "cell_type": "code",
   "execution_count": 2,
   "id": "b918ca78-433d-41a9-83a0-f54cf2c266f0",
   "metadata": {},
   "outputs": [
    {
     "name": "stdout",
     "output_type": "stream",
     "text": [
      "           Value  Std err  t-test  p-value  Rob. Std err  Rob. t-test  \\\n",
      "ASC_CAR   -0.798     0.27   -2.95  0.00315         0.275         -2.9   \n",
      "BETA_COST -0.113   0.0232   -4.85 1.21e-06        0.0241        -4.67   \n",
      "BETA_TT    -1.33    0.344   -3.86 0.000115         0.354        -3.75   \n",
      "\n",
      "           Rob. p-value  \n",
      "ASC_CAR         0.00379  \n",
      "BETA_COST      3.03e-06  \n",
      "BETA_TT         0.00018  \n",
      "Nbr of observations: 228\n",
      "LL(0) =    -123.133\n",
      "LL(beta) = -123.133\n",
      "rho bar square = -0.0244\n",
      "Output file: binary_specific_netherlands~03.html\n"
     ]
    }
   ],
   "source": [
    "#Benchmark\n",
    "\n",
    "%run -i \"binary_specific_netherlands.py\""
   ]
  },
  {
   "cell_type": "code",
   "execution_count": 3,
   "id": "3519fe7c-d051-43fe-96b5-6792492ecadb",
   "metadata": {},
   "outputs": [],
   "source": [
    "ned_data_rp = pd.read_table(\"Data/netherlandsRP.dat\")\n",
    "\n",
    "X = ned_data_rp[['car_cost', 'rail_cost', 'car_ivtt', 'car_walk_time', 'rail_ivtt', 'rail_acc_time', 'rail_egr_time']]\n",
    "X_updt = X.copy()\n",
    "X_updt['car_tt'] = X['car_ivtt'] +X['car_walk_time']\n",
    "X_updt['rail_tt'] = X['rail_ivtt'] +X['rail_acc_time'] +X['rail_egr_time']\n",
    "\n",
    "rate_G2E = 0.44378022\n",
    "X_updt['car_cost'] = X_updt['car_cost'] * rate_G2E\n",
    "X_updt['rail_cost'] = X_updt['rail_cost'] * rate_G2E\n",
    "X_updt = X_updt.drop(columns=['car_ivtt', 'car_walk_time', 'rail_ivtt', 'rail_acc_time', 'rail_egr_time'])\n",
    "\n",
    "y = ned_data_rp['choice']"
   ]
  },
  {
   "cell_type": "code",
   "execution_count": 4,
   "id": "213276d0-ddeb-4b04-b709-ad4578e88c3c",
   "metadata": {},
   "outputs": [
    {
     "data": {
      "text/html": [
       "<div>\n",
       "<style scoped>\n",
       "    .dataframe tbody tr th:only-of-type {\n",
       "        vertical-align: middle;\n",
       "    }\n",
       "\n",
       "    .dataframe tbody tr th {\n",
       "        vertical-align: top;\n",
       "    }\n",
       "\n",
       "    .dataframe thead th {\n",
       "        text-align: right;\n",
       "    }\n",
       "</style>\n",
       "<table border=\"1\" class=\"dataframe\">\n",
       "  <thead>\n",
       "    <tr style=\"text-align: right;\">\n",
       "      <th></th>\n",
       "      <th>car_cost</th>\n",
       "      <th>rail_cost</th>\n",
       "      <th>car_tt</th>\n",
       "      <th>rail_tt</th>\n",
       "    </tr>\n",
       "  </thead>\n",
       "  <tbody>\n",
       "    <tr>\n",
       "      <th>0</th>\n",
       "      <td>2.22</td>\n",
       "      <td>17.8</td>\n",
       "      <td>1.17</td>\n",
       "      <td>2.5</td>\n",
       "    </tr>\n",
       "    <tr>\n",
       "      <th>1</th>\n",
       "      <td>3.99</td>\n",
       "      <td>15.5</td>\n",
       "      <td>1.52</td>\n",
       "      <td>2.02</td>\n",
       "    </tr>\n",
       "    <tr>\n",
       "      <th>2</th>\n",
       "      <td>5.1</td>\n",
       "      <td>10.7</td>\n",
       "      <td>1.97</td>\n",
       "      <td>2.02</td>\n",
       "    </tr>\n",
       "    <tr>\n",
       "      <th>3</th>\n",
       "      <td>3.7</td>\n",
       "      <td>3.46</td>\n",
       "      <td>2</td>\n",
       "      <td>1.75</td>\n",
       "    </tr>\n",
       "    <tr>\n",
       "      <th>4</th>\n",
       "      <td>2.22</td>\n",
       "      <td>12.4</td>\n",
       "      <td>1.27</td>\n",
       "      <td>2.03</td>\n",
       "    </tr>\n",
       "    <tr>\n",
       "      <th>...</th>\n",
       "      <td>...</td>\n",
       "      <td>...</td>\n",
       "      <td>...</td>\n",
       "      <td>...</td>\n",
       "    </tr>\n",
       "    <tr>\n",
       "      <th>223</th>\n",
       "      <td>6.21</td>\n",
       "      <td>16.9</td>\n",
       "      <td>1.4</td>\n",
       "      <td>2.42</td>\n",
       "    </tr>\n",
       "    <tr>\n",
       "      <th>224</th>\n",
       "      <td>7.77</td>\n",
       "      <td>17.8</td>\n",
       "      <td>1.33</td>\n",
       "      <td>2.33</td>\n",
       "    </tr>\n",
       "    <tr>\n",
       "      <th>225</th>\n",
       "      <td>2.77</td>\n",
       "      <td>12</td>\n",
       "      <td>1.83</td>\n",
       "      <td>2.08</td>\n",
       "    </tr>\n",
       "    <tr>\n",
       "      <th>226</th>\n",
       "      <td>9.62</td>\n",
       "      <td>19.5</td>\n",
       "      <td>1.27</td>\n",
       "      <td>1.75</td>\n",
       "    </tr>\n",
       "    <tr>\n",
       "      <th>227</th>\n",
       "      <td>2.77</td>\n",
       "      <td>13.3</td>\n",
       "      <td>1.52</td>\n",
       "      <td>1.25</td>\n",
       "    </tr>\n",
       "  </tbody>\n",
       "</table>\n",
       "<p>228 rows × 4 columns</p>\n",
       "</div>"
      ],
      "text/plain": [
       "     car_cost  rail_cost  car_tt  rail_tt\n",
       "0        2.22       17.8    1.17      2.5\n",
       "1        3.99       15.5    1.52     2.02\n",
       "2         5.1       10.7    1.97     2.02\n",
       "3         3.7       3.46       2     1.75\n",
       "4        2.22       12.4    1.27     2.03\n",
       "..        ...        ...     ...      ...\n",
       "223      6.21       16.9     1.4     2.42\n",
       "224      7.77       17.8    1.33     2.33\n",
       "225      2.77         12    1.83     2.08\n",
       "226      9.62       19.5    1.27     1.75\n",
       "227      2.77       13.3    1.52     1.25\n",
       "\n",
       "[228 rows x 4 columns]"
      ]
     },
     "execution_count": 4,
     "metadata": {},
     "output_type": "execute_result"
    }
   ],
   "source": [
    "X_updt"
   ]
  },
  {
   "cell_type": "code",
   "execution_count": 5,
   "id": "4dd97450-5b55-41d5-923f-43dd19223694",
   "metadata": {},
   "outputs": [],
   "source": [
    "from sklearn.model_selection import train_test_split\n",
    "\n",
    "X_train, X_validate, y_train, y_validate = train_test_split(X_updt, y, test_size=0.20, random_state=42)"
   ]
  },
  {
   "cell_type": "code",
   "execution_count": 6,
   "id": "9c5846a8-e1ca-4159-8893-fc3cef631134",
   "metadata": {},
   "outputs": [],
   "source": [
    "import xgboost as xgb \n",
    "\n",
    "xgb_constrained = xgb.XGBClassifier(#objective='binary:logistic', \n",
    "                                    #learning_rate = 0.2,\n",
    "                                    n_estimators = 5, \n",
    "                                    max_depth = 5, \n",
    "                                    random_state = 42,\n",
    "                                    monotone_constraints = (-1, -1, -1, -1),\n",
    "                                    interaction_constraints = [[\"car_cost\"], [\"rail_cost\"], [\"car_tt\"], [\"rail_tt\"]]\n",
    "                                   )"
   ]
  },
  {
   "cell_type": "code",
   "execution_count": 7,
   "id": "49b1745c-0138-4448-98c6-bc74f0a9a707",
   "metadata": {},
   "outputs": [],
   "source": [
    "#xgb_constrained.get_params()"
   ]
  },
  {
   "cell_type": "code",
   "execution_count": 8,
   "id": "77fb27bd-f746-43fb-bdc2-0b534ac7ded2",
   "metadata": {},
   "outputs": [
    {
     "name": "stdout",
     "output_type": "stream",
     "text": [
      "[0]\tvalidation_0-logloss:0.69091\n",
      "[1]\tvalidation_0-logloss:0.67756\n",
      "[2]\tvalidation_0-logloss:0.67163\n",
      "[3]\tvalidation_0-logloss:0.67809\n",
      "[4]\tvalidation_0-logloss:0.68440\n"
     ]
    },
    {
     "data": {
      "text/plain": [
       "XGBClassifier(base_score=None, booster=None, callbacks=None,\n",
       "              colsample_bylevel=None, colsample_bynode=None,\n",
       "              colsample_bytree=None, early_stopping_rounds=None,\n",
       "              enable_categorical=False, eval_metric=None, feature_types=None,\n",
       "              gamma=None, gpu_id=None, grow_policy=None, importance_type=None,\n",
       "              interaction_constraints=[['car_cost'], ['rail_cost'], ['car_tt'],\n",
       "                                       ['rail_tt']],\n",
       "              learning_rate=None, max_bin=None, max_cat_threshold=None,\n",
       "              max_cat_to_onehot=None, max_delta_step=None, max_depth=5,\n",
       "              max_leaves=None, min_child_weight=None, missing=nan,\n",
       "              monotone_constraints=(-1, -1, -1, -1), n_estimators=5,\n",
       "              n_jobs=None, num_parallel_tree=None, predictor=None,\n",
       "              random_state=42, ...)"
      ]
     },
     "execution_count": 8,
     "metadata": {},
     "output_type": "execute_result"
    }
   ],
   "source": [
    "eval_set = [(X_validate, y_validate)]\n",
    "xgb_constrained.fit(X_train, y_train, eval_set=eval_set)"
   ]
  },
  {
   "cell_type": "code",
   "execution_count": 9,
   "id": "a35d19ba-052b-4b38-8399-3c89837d77ce",
   "metadata": {},
   "outputs": [
    {
     "data": {
      "text/plain": [
       "0.5652173913043478"
      ]
     },
     "execution_count": 9,
     "metadata": {},
     "output_type": "execute_result"
    }
   ],
   "source": [
    "y_pred=xgb_constrained.predict(X_validate)\n",
    "\n",
    "from sklearn.metrics import accuracy_score\n",
    "\n",
    "accuracy_score(y_validate, y_pred)"
   ]
  },
  {
   "cell_type": "code",
   "execution_count": 11,
   "id": "909fa3e5-dbb5-47ea-87f9-e3c1d88db6d4",
   "metadata": {},
   "outputs": [],
   "source": [
    "from xgbfir_modified import saveXgbFI\n",
    "\n",
    "saveXgbFI(xgb_constrained)"
   ]
  },
  {
   "cell_type": "code",
   "execution_count": 134,
   "id": "3acdef9e-f781-4d8b-8ebb-65da81d79ee4",
   "metadata": {},
   "outputs": [],
   "source": [
    "import xgbfir\n",
    "\n",
    "xgbfir.saveXgbFI(xgb_constrained)"
   ]
  }
 ],
 "metadata": {
  "kernelspec": {
   "display_name": "Python [conda env:biogeme]",
   "language": "python",
   "name": "conda-env-biogeme-py"
  },
  "language_info": {
   "codemirror_mode": {
    "name": "ipython",
    "version": 3
   },
   "file_extension": ".py",
   "mimetype": "text/x-python",
   "name": "python",
   "nbconvert_exporter": "python",
   "pygments_lexer": "ipython3",
   "version": "3.9.7"
  }
 },
 "nbformat": 4,
 "nbformat_minor": 5
}
