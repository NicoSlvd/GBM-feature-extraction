{
 "cells": [
  {
   "cell_type": "code",
   "execution_count": 1,
   "id": "5a993e43-b786-4acd-b7c9-570a0758e709",
   "metadata": {},
   "outputs": [],
   "source": [
    "import numpy as np\n",
    "import pandas as pd\n",
    "import biogeme\n",
    "import sklearn\n",
    "from lightgbm import LGBMClassifier"
   ]
  },
  {
   "cell_type": "code",
   "execution_count": 55,
   "id": "4e69eab7-bbf9-40d2-986b-423abc54f30a",
   "metadata": {},
   "outputs": [],
   "source": [
    "ned_data_rp = pd.read_table(\"Data/netherlandsRP.dat\")\n",
    "ned_data = pd.read_table(\"Data/netherlands.dat\")"
   ]
  },
  {
   "cell_type": "code",
   "execution_count": 57,
   "id": "ac0fe041-70d5-4234-8765-32e1261e103b",
   "metadata": {},
   "outputs": [],
   "source": [
    "ned_data['choice'] = ned_data.choice.replace(to_replace=[10, 11], value=[0, 1])"
   ]
  },
  {
   "cell_type": "code",
   "execution_count": 60,
   "id": "3f9ba9c9-16a6-4097-a17c-b65cfc64bb1d",
   "metadata": {},
   "outputs": [],
   "source": [
    "X = ned_data[['rail_cost', 'car_cost', ]]\n",
    "y = ned_data['choice']"
   ]
  },
  {
   "cell_type": "code",
   "execution_count": null,
   "id": "8c897b15-c143-45f9-9856-f5e04299c737",
   "metadata": {},
   "outputs": [],
   "source": [
    "X_validate"
   ]
  },
  {
   "cell_type": "code",
   "execution_count": 61,
   "id": "67ebc945-0ef0-4cd3-8281-873635506b46",
   "metadata": {},
   "outputs": [],
   "source": [
    "from sklearn.model_selection import train_test_split\n",
    "\n",
    "X_train, X_validate, y_train, y_validate = train_test_split(X, y, test_size=0.20)"
   ]
  },
  {
   "cell_type": "code",
   "execution_count": 64,
   "id": "7abdd67a-089e-4b34-8e12-5758c2d54676",
   "metadata": {},
   "outputs": [],
   "source": [
    "lightGBM = LGBMClassifier(n_estimators = 30, \n",
    "                          max_depth = 5, \n",
    "                          num_leaves = 10, \n",
    "                          reg_alpha = 0.2, \n",
    "                          monotone_constraints = [1, 1])"
   ]
  },
  {
   "cell_type": "code",
   "execution_count": 65,
   "id": "08de4e7a-2165-428b-92c5-696ca859784a",
   "metadata": {},
   "outputs": [
    {
     "name": "stdout",
     "output_type": "stream",
     "text": [
      "[1]\tvalid_0's binary_logloss: 0.563626\n",
      "[2]\tvalid_0's binary_logloss: 0.555346\n",
      "[3]\tvalid_0's binary_logloss: 0.549016\n",
      "[4]\tvalid_0's binary_logloss: 0.543589\n",
      "[5]\tvalid_0's binary_logloss: 0.539148\n",
      "[6]\tvalid_0's binary_logloss: 0.535334\n",
      "[7]\tvalid_0's binary_logloss: 0.531718\n",
      "[8]\tvalid_0's binary_logloss: 0.529106\n",
      "[9]\tvalid_0's binary_logloss: 0.52686\n",
      "[10]\tvalid_0's binary_logloss: 0.524876\n",
      "[11]\tvalid_0's binary_logloss: 0.52352\n",
      "[12]\tvalid_0's binary_logloss: 0.5221\n",
      "[13]\tvalid_0's binary_logloss: 0.521417\n",
      "[14]\tvalid_0's binary_logloss: 0.520536\n",
      "[15]\tvalid_0's binary_logloss: 0.519578\n",
      "[16]\tvalid_0's binary_logloss: 0.5193\n",
      "[17]\tvalid_0's binary_logloss: 0.518605\n",
      "[18]\tvalid_0's binary_logloss: 0.518224\n",
      "[19]\tvalid_0's binary_logloss: 0.517701\n",
      "[20]\tvalid_0's binary_logloss: 0.517241\n",
      "[21]\tvalid_0's binary_logloss: 0.517342\n",
      "[22]\tvalid_0's binary_logloss: 0.517389\n",
      "[23]\tvalid_0's binary_logloss: 0.51746\n",
      "[24]\tvalid_0's binary_logloss: 0.517508\n",
      "[25]\tvalid_0's binary_logloss: 0.517577\n",
      "[26]\tvalid_0's binary_logloss: 0.517713\n",
      "[27]\tvalid_0's binary_logloss: 0.517798\n",
      "[28]\tvalid_0's binary_logloss: 0.517925\n",
      "[29]\tvalid_0's binary_logloss: 0.517979\n",
      "[30]\tvalid_0's binary_logloss: 0.518094\n"
     ]
    },
    {
     "data": {
      "text/plain": [
       "LGBMClassifier(max_depth=5, monotone_constraints=[1, 1], n_estimators=30,\n",
       "               num_leaves=10, reg_alpha=0.2)"
      ]
     },
     "execution_count": 65,
     "metadata": {},
     "output_type": "execute_result"
    }
   ],
   "source": [
    "eval_set = [(X_validate, y_validate)]\n",
    "lightGBM.fit(X_train, y_train, eval_set=eval_set)"
   ]
  },
  {
   "cell_type": "code",
   "execution_count": 126,
   "id": "c59b94c7-44f3-4fab-9c2f-e68aa5dccdeb",
   "metadata": {},
   "outputs": [],
   "source": [
    "y_pred=lightGBM.predict(X_validate)"
   ]
  },
  {
   "cell_type": "code",
   "execution_count": 67,
   "id": "84362235-0f0a-4346-be0f-b62676bb6508",
   "metadata": {},
   "outputs": [],
   "source": [
    "from sklearn.metrics import accuracy_score"
   ]
  },
  {
   "cell_type": "code",
   "execution_count": 68,
   "id": "53505247-a02d-4813-a1d6-e1d83f005b30",
   "metadata": {},
   "outputs": [
    {
     "data": {
      "text/plain": [
       "0.7672413793103449"
      ]
     },
     "execution_count": 68,
     "metadata": {},
     "output_type": "execute_result"
    }
   ],
   "source": [
    "accuracy_score(y_validate, y_pred)"
   ]
  },
  {
   "cell_type": "code",
   "execution_count": 69,
   "id": "c9992378-7c83-4239-af17-6dc9b5b7a19f",
   "metadata": {},
   "outputs": [],
   "source": [
    "import biogeme.database as db\n",
    "train_data = X_train.join(y_train)\n",
    "database = db.Database(\"ned_data\", train_data)\n",
    "globals().update(database.variables)"
   ]
  },
  {
   "cell_type": "code",
   "execution_count": 107,
   "id": "7d48e4ab-d0ae-4892-bb45-4a7a9dc3740c",
   "metadata": {},
   "outputs": [],
   "source": [
    "from biogeme.expressions import Beta\n",
    "\n",
    "ASC_c = Beta('ASC_c',0,None,None,0)\n",
    "ASC_pt = Beta('ASC_pt', 0,None,None,1)\n",
    "\n",
    "B_COST_c = Beta('B_COST_c', 0, None, None, 0)\n",
    "B_COST_pt = Beta('B_COST_pt', 0, None, None, 0)"
   ]
  },
  {
   "cell_type": "code",
   "execution_count": 108,
   "id": "d8955ea7-6df6-4c0e-a774-37142d4609e1",
   "metadata": {},
   "outputs": [],
   "source": [
    "V_c = ASC_c + B_COST_c * car_cost\n",
    "V_pt = ASC_pt + B_COST_pt * rail_cost\n",
    "V = {0: V_c, 1: V_pt}"
   ]
  },
  {
   "cell_type": "code",
   "execution_count": 109,
   "id": "4bfc8a01-54c6-4d8e-8cb8-f2280afd91e4",
   "metadata": {},
   "outputs": [],
   "source": [
    "avail = {0: 1, 1: 1}"
   ]
  },
  {
   "cell_type": "code",
   "execution_count": 110,
   "id": "02e949e6-dc41-49e8-a68c-2a4ac40655d9",
   "metadata": {},
   "outputs": [
    {
     "name": "stdout",
     "output_type": "stream",
     "text": [
      "              Value   Std err     t-test       p-value  Rob. Std err  \\\n",
      "ASC_c      2.118586  0.180210  11.756186  0.000000e+00      0.193177   \n",
      "B_COST_c  -0.026004  0.003835  -6.779798  1.203437e-11      0.004201   \n",
      "B_COST_pt  0.022996  0.005293   4.344423  1.396423e-05      0.005696   \n",
      "\n",
      "           Rob. t-test  Rob. p-value  \n",
      "ASC_c        10.967089  0.000000e+00  \n",
      "B_COST_c     -6.190114  6.012084e-10  \n",
      "B_COST_pt     4.037293  5.407149e-05  \n"
     ]
    }
   ],
   "source": [
    "import biogeme.models as models\n",
    "\n",
    "import biogeme.messaging as msg\n",
    "import biogeme.biogeme as bio\n",
    "\n",
    "# observation to the log likelihood function.\n",
    "logprob = models.loglogit(V, None, choice)\n",
    "\n",
    "# Create the Biogeme object\n",
    "biogeme = bio.BIOGEME(database, logprob)\n",
    "biogeme.modelName = '01logit'\n",
    "\n",
    "# Calculate the null log likelihood for reporting.\n",
    "biogeme.calculateNullLoglikelihood(avail)\n",
    "\n",
    "# Estimate the parameters\n",
    "results = biogeme.estimate()\n",
    "\n",
    "# Get the results in a pandas table\n",
    "pandasResults = results.getEstimatedParameters()\n",
    "print(pandasResults)\n"
   ]
  },
  {
   "cell_type": "code",
   "execution_count": 120,
   "id": "40d63323-5420-4b7b-abf3-3651ba7a8612",
   "metadata": {},
   "outputs": [],
   "source": [
    "cost = np.arange(0, 150, 0.1)\n",
    "V_car = 2.118586 - 0.026004 * cost\n",
    "V_pt = 0.022996 * cost"
   ]
  },
  {
   "cell_type": "code",
   "execution_count": 121,
   "id": "ce1611c4-33fa-43c5-834b-d1e1b3d9213f",
   "metadata": {},
   "outputs": [],
   "source": [
    "import matplotlib.pyplot as plt\n",
    "import seaborn as sns"
   ]
  },
  {
   "cell_type": "code",
   "execution_count": 122,
   "id": "d764c017-d35c-46d7-9ae3-c72ab4afdae6",
   "metadata": {},
   "outputs": [
    {
     "data": {
      "text/plain": [
       "array([0.0000000e+00, 2.2996000e-03, 4.5992000e-03, ..., 3.4425012e+00,\n",
       "       3.4448008e+00, 3.4471004e+00])"
      ]
     },
     "execution_count": 122,
     "metadata": {},
     "output_type": "execute_result"
    }
   ],
   "source": [
    "V_pt"
   ]
  },
  {
   "cell_type": "code",
   "execution_count": 128,
   "id": "5cb5df41-4ee0-4193-9439-8be4286d47ab",
   "metadata": {},
   "outputs": [
    {
     "ename": "ValueError",
     "evalue": "Expected 2D array, got 1D array instead:\narray=[0.000e+00 1.000e-01 2.000e-01 ... 1.497e+02 1.498e+02 1.499e+02].\nReshape your data either using array.reshape(-1, 1) if your data has a single feature or array.reshape(1, -1) if it contains a single sample.",
     "output_type": "error",
     "traceback": [
      "\u001b[1;31m---------------------------------------------------------------------------\u001b[0m",
      "\u001b[1;31mValueError\u001b[0m                                Traceback (most recent call last)",
      "\u001b[1;32m~\\AppData\\Local\\Temp/ipykernel_25280/1262162443.py\u001b[0m in \u001b[0;36m<module>\u001b[1;34m\u001b[0m\n\u001b[1;32m----> 1\u001b[1;33m \u001b[0mpred\u001b[0m \u001b[1;33m=\u001b[0m \u001b[0mlightGBM\u001b[0m\u001b[1;33m.\u001b[0m\u001b[0mpredict\u001b[0m\u001b[1;33m(\u001b[0m\u001b[0mcost\u001b[0m\u001b[1;33m)\u001b[0m\u001b[1;33m\u001b[0m\u001b[1;33m\u001b[0m\u001b[0m\n\u001b[0m",
      "\u001b[1;32m~\\anaconda3\\envs\\biogeme\\lib\\site-packages\\lightgbm\\sklearn.py\u001b[0m in \u001b[0;36mpredict\u001b[1;34m(self, X, raw_score, start_iteration, num_iteration, pred_leaf, pred_contrib, **kwargs)\u001b[0m\n\u001b[0;32m    982\u001b[0m                 pred_leaf=False, pred_contrib=False, **kwargs):\n\u001b[0;32m    983\u001b[0m         \u001b[1;34m\"\"\"Docstring is inherited from the LGBMModel.\"\"\"\u001b[0m\u001b[1;33m\u001b[0m\u001b[1;33m\u001b[0m\u001b[0m\n\u001b[1;32m--> 984\u001b[1;33m         result = self.predict_proba(X, raw_score, start_iteration, num_iteration,\n\u001b[0m\u001b[0;32m    985\u001b[0m                                     pred_leaf, pred_contrib, **kwargs)\n\u001b[0;32m    986\u001b[0m         \u001b[1;32mif\u001b[0m \u001b[0mcallable\u001b[0m\u001b[1;33m(\u001b[0m\u001b[0mself\u001b[0m\u001b[1;33m.\u001b[0m\u001b[0m_objective\u001b[0m\u001b[1;33m)\u001b[0m \u001b[1;32mor\u001b[0m \u001b[0mraw_score\u001b[0m \u001b[1;32mor\u001b[0m \u001b[0mpred_leaf\u001b[0m \u001b[1;32mor\u001b[0m \u001b[0mpred_contrib\u001b[0m\u001b[1;33m:\u001b[0m\u001b[1;33m\u001b[0m\u001b[1;33m\u001b[0m\u001b[0m\n",
      "\u001b[1;32m~\\anaconda3\\envs\\biogeme\\lib\\site-packages\\lightgbm\\sklearn.py\u001b[0m in \u001b[0;36mpredict_proba\u001b[1;34m(self, X, raw_score, start_iteration, num_iteration, pred_leaf, pred_contrib, **kwargs)\u001b[0m\n\u001b[0;32m    995\u001b[0m                       pred_leaf=False, pred_contrib=False, **kwargs):\n\u001b[0;32m    996\u001b[0m         \u001b[1;34m\"\"\"Docstring is set after definition, using a template.\"\"\"\u001b[0m\u001b[1;33m\u001b[0m\u001b[1;33m\u001b[0m\u001b[0m\n\u001b[1;32m--> 997\u001b[1;33m         \u001b[0mresult\u001b[0m \u001b[1;33m=\u001b[0m \u001b[0msuper\u001b[0m\u001b[1;33m(\u001b[0m\u001b[1;33m)\u001b[0m\u001b[1;33m.\u001b[0m\u001b[0mpredict\u001b[0m\u001b[1;33m(\u001b[0m\u001b[0mX\u001b[0m\u001b[1;33m,\u001b[0m \u001b[0mraw_score\u001b[0m\u001b[1;33m,\u001b[0m \u001b[0mstart_iteration\u001b[0m\u001b[1;33m,\u001b[0m \u001b[0mnum_iteration\u001b[0m\u001b[1;33m,\u001b[0m \u001b[0mpred_leaf\u001b[0m\u001b[1;33m,\u001b[0m \u001b[0mpred_contrib\u001b[0m\u001b[1;33m,\u001b[0m \u001b[1;33m**\u001b[0m\u001b[0mkwargs\u001b[0m\u001b[1;33m)\u001b[0m\u001b[1;33m\u001b[0m\u001b[1;33m\u001b[0m\u001b[0m\n\u001b[0m\u001b[0;32m    998\u001b[0m         \u001b[1;32mif\u001b[0m \u001b[0mcallable\u001b[0m\u001b[1;33m(\u001b[0m\u001b[0mself\u001b[0m\u001b[1;33m.\u001b[0m\u001b[0m_objective\u001b[0m\u001b[1;33m)\u001b[0m \u001b[1;32mand\u001b[0m \u001b[1;32mnot\u001b[0m \u001b[1;33m(\u001b[0m\u001b[0mraw_score\u001b[0m \u001b[1;32mor\u001b[0m \u001b[0mpred_leaf\u001b[0m \u001b[1;32mor\u001b[0m \u001b[0mpred_contrib\u001b[0m\u001b[1;33m)\u001b[0m\u001b[1;33m:\u001b[0m\u001b[1;33m\u001b[0m\u001b[1;33m\u001b[0m\u001b[0m\n\u001b[0;32m    999\u001b[0m             _log_warning(\"Cannot compute class probabilities or labels \"\n",
      "\u001b[1;32m~\\anaconda3\\envs\\biogeme\\lib\\site-packages\\lightgbm\\sklearn.py\u001b[0m in \u001b[0;36mpredict\u001b[1;34m(self, X, raw_score, start_iteration, num_iteration, pred_leaf, pred_contrib, **kwargs)\u001b[0m\n\u001b[0;32m    795\u001b[0m             \u001b[1;32mraise\u001b[0m \u001b[0mLGBMNotFittedError\u001b[0m\u001b[1;33m(\u001b[0m\u001b[1;34m\"Estimator not fitted, call fit before exploiting the model.\"\u001b[0m\u001b[1;33m)\u001b[0m\u001b[1;33m\u001b[0m\u001b[1;33m\u001b[0m\u001b[0m\n\u001b[0;32m    796\u001b[0m         \u001b[1;32mif\u001b[0m \u001b[1;32mnot\u001b[0m \u001b[0misinstance\u001b[0m\u001b[1;33m(\u001b[0m\u001b[0mX\u001b[0m\u001b[1;33m,\u001b[0m \u001b[1;33m(\u001b[0m\u001b[0mpd_DataFrame\u001b[0m\u001b[1;33m,\u001b[0m \u001b[0mdt_DataTable\u001b[0m\u001b[1;33m)\u001b[0m\u001b[1;33m)\u001b[0m\u001b[1;33m:\u001b[0m\u001b[1;33m\u001b[0m\u001b[1;33m\u001b[0m\u001b[0m\n\u001b[1;32m--> 797\u001b[1;33m             \u001b[0mX\u001b[0m \u001b[1;33m=\u001b[0m \u001b[0m_LGBMCheckArray\u001b[0m\u001b[1;33m(\u001b[0m\u001b[0mX\u001b[0m\u001b[1;33m,\u001b[0m \u001b[0maccept_sparse\u001b[0m\u001b[1;33m=\u001b[0m\u001b[1;32mTrue\u001b[0m\u001b[1;33m,\u001b[0m \u001b[0mforce_all_finite\u001b[0m\u001b[1;33m=\u001b[0m\u001b[1;32mFalse\u001b[0m\u001b[1;33m)\u001b[0m\u001b[1;33m\u001b[0m\u001b[1;33m\u001b[0m\u001b[0m\n\u001b[0m\u001b[0;32m    798\u001b[0m         \u001b[0mn_features\u001b[0m \u001b[1;33m=\u001b[0m \u001b[0mX\u001b[0m\u001b[1;33m.\u001b[0m\u001b[0mshape\u001b[0m\u001b[1;33m[\u001b[0m\u001b[1;36m1\u001b[0m\u001b[1;33m]\u001b[0m\u001b[1;33m\u001b[0m\u001b[1;33m\u001b[0m\u001b[0m\n\u001b[0;32m    799\u001b[0m         \u001b[1;32mif\u001b[0m \u001b[0mself\u001b[0m\u001b[1;33m.\u001b[0m\u001b[0m_n_features\u001b[0m \u001b[1;33m!=\u001b[0m \u001b[0mn_features\u001b[0m\u001b[1;33m:\u001b[0m\u001b[1;33m\u001b[0m\u001b[1;33m\u001b[0m\u001b[0m\n",
      "\u001b[1;32m~\\anaconda3\\envs\\biogeme\\lib\\site-packages\\sklearn\\utils\\validation.py\u001b[0m in \u001b[0;36mcheck_array\u001b[1;34m(array, accept_sparse, accept_large_sparse, dtype, order, copy, force_all_finite, ensure_2d, allow_nd, ensure_min_samples, ensure_min_features, estimator)\u001b[0m\n\u001b[0;32m    767\u001b[0m             \u001b[1;31m# If input is 1D raise error\u001b[0m\u001b[1;33m\u001b[0m\u001b[1;33m\u001b[0m\u001b[0m\n\u001b[0;32m    768\u001b[0m             \u001b[1;32mif\u001b[0m \u001b[0marray\u001b[0m\u001b[1;33m.\u001b[0m\u001b[0mndim\u001b[0m \u001b[1;33m==\u001b[0m \u001b[1;36m1\u001b[0m\u001b[1;33m:\u001b[0m\u001b[1;33m\u001b[0m\u001b[1;33m\u001b[0m\u001b[0m\n\u001b[1;32m--> 769\u001b[1;33m                 raise ValueError(\n\u001b[0m\u001b[0;32m    770\u001b[0m                     \u001b[1;34m\"Expected 2D array, got 1D array instead:\\narray={}.\\n\"\u001b[0m\u001b[1;33m\u001b[0m\u001b[1;33m\u001b[0m\u001b[0m\n\u001b[0;32m    771\u001b[0m                     \u001b[1;34m\"Reshape your data either using array.reshape(-1, 1) if \"\u001b[0m\u001b[1;33m\u001b[0m\u001b[1;33m\u001b[0m\u001b[0m\n",
      "\u001b[1;31mValueError\u001b[0m: Expected 2D array, got 1D array instead:\narray=[0.000e+00 1.000e-01 2.000e-01 ... 1.497e+02 1.498e+02 1.499e+02].\nReshape your data either using array.reshape(-1, 1) if your data has a single feature or array.reshape(1, -1) if it contains a single sample."
     ]
    }
   ],
   "source": [
    "pred = lightGBM.predict(cost)"
   ]
  },
  {
   "cell_type": "code",
   "execution_count": 123,
   "id": "e72f004b-275d-4db4-85d0-44c4df242d9b",
   "metadata": {},
   "outputs": [
    {
     "data": {
      "text/plain": [
       "<AxesSubplot:>"
      ]
     },
     "execution_count": 123,
     "metadata": {},
     "output_type": "execute_result"
    },
    {
     "data": {
      "image/png": "[encoded data removed]",
      "text/plain": [
       "<Figure size 720x432 with 1 Axes>"
      ]
     },
     "metadata": {
      "needs_background": "light"
     },
     "output_type": "display_data"
    }
   ],
   "source": [
    "plt.figure(figsize=(10, 6))\n",
    "\n",
    "sns.lineplot(x=cost, y=V_car)\n",
    "\n",
    "sns.lineplot(x=cost, y=V_pt)"
   ]
  },
  {
   "cell_type": "code",
   "execution_count": null,
   "id": "08ed9a97-5602-4ee7-a632-84b1df7dd8f6",
   "metadata": {},
   "outputs": [],
   "source": []
  }
 ],
 "metadata": {
  "kernelspec": {
   "display_name": "Python [conda env:biogeme]",
   "language": "python",
   "name": "conda-env-biogeme-py"
  },
  "language_info": {
   "codemirror_mode": {
    "name": "ipython",
    "version": 3
   },
   "file_extension": ".py",
   "mimetype": "text/x-python",
   "name": "python",
   "nbconvert_exporter": "python",
   "pygments_lexer": "ipython3",
   "version": "3.9.7"
  }
 },
 "nbformat": 4,
 "nbformat_minor": 5
}
