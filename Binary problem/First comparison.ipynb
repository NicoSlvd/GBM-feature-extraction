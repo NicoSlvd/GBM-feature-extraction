{
 "cells": [
  {
   "cell_type": "code",
   "execution_count": 35,
   "id": "5a993e43-b786-4acd-b7c9-570a0758e709",
   "metadata": {},
   "outputs": [],
   "source": [
    "import numpy as np\n",
    "import pandas as pd\n",
    "import biogeme\n",
    "import sklearn\n",
    "from lightgbm import LGBMClassifier"
   ]
  },
  {
   "cell_type": "code",
   "execution_count": 10,
   "id": "4e69eab7-bbf9-40d2-986b-423abc54f30a",
   "metadata": {},
   "outputs": [],
   "source": [
    "ned_data = pd.read_table(\"Data/netherlandsRP.dat\")"
   ]
  },
  {
   "cell_type": "code",
   "execution_count": 16,
   "id": "ac0fe041-70d5-4234-8765-32e1261e103b",
   "metadata": {},
   "outputs": [
    {
     "data": {
      "text/plain": [
       "Index(['id', 'rp', 'sp', 'choice', 'purpose', 'npersons', 'age',\n",
       "       'employ_status', 'mainearn', 'arrival_time', 'gender', 'rail_ivtt',\n",
       "       'rail_cost', 'rail_transfers', 'rail_acc_time', 'rail_egr_time',\n",
       "       'rail_acc_mode', 'rail_egr_mode', 'seat_status', 'car_ivtt', 'car_cost',\n",
       "       'car_walk_time', 'car_parking_fee', 'rail_comfort', 'rp_transfer',\n",
       "       'rp_choice', 'rp_rail_ovt', 'rp_car_ovt'],\n",
       "      dtype='object')"
      ]
     },
     "execution_count": 16,
     "metadata": {},
     "output_type": "execute_result"
    }
   ],
   "source": [
    "ned_data.columns"
   ]
  },
  {
   "cell_type": "code",
   "execution_count": 25,
   "id": "2885548a-6534-4ba7-aa99-dfea7748530b",
   "metadata": {},
   "outputs": [
    {
     "data": {
      "text/plain": [
       "228"
      ]
     },
     "execution_count": 25,
     "metadata": {},
     "output_type": "execute_result"
    }
   ],
   "source": []
  },
  {
   "cell_type": "code",
   "execution_count": 28,
   "id": "543b3dee-b1a8-461b-8169-f14fb9714299",
   "metadata": {},
   "outputs": [],
   "source": [
    "split = 0.7\n",
    "mask = np.random.random(size=len(ned_data))"
   ]
  },
  {
   "cell_type": "code",
   "execution_count": 30,
   "id": "3f9ba9c9-16a6-4097-a17c-b65cfc64bb1d",
   "metadata": {},
   "outputs": [],
   "source": [
    "X = ned_data[['rail_cost', 'car_cost']]"
   ]
  },
  {
   "cell_type": "code",
   "execution_count": 37,
   "id": "67ebc945-0ef0-4cd3-8281-873635506b46",
   "metadata": {},
   "outputs": [],
   "source": [
    "from sklearn.model_selection import train_test_split\n",
    "\n",
    "X_train, X_validate, y_train, y_validate = train_test_split(X, y, test_size=0.20, random_state=42)"
   ]
  },
  {
   "cell_type": "code",
   "execution_count": 50,
   "id": "7abdd67a-089e-4b34-8e12-5758c2d54676",
   "metadata": {},
   "outputs": [],
   "source": [
    "params = {\n",
    "          \"monotone_constraints\": [1, 1]\n",
    "}\n",
    "lightGBM = LGBMClassifier()\n",
    "#lightGBM.set_params(params)"
   ]
  },
  {
   "cell_type": "code",
   "execution_count": 51,
   "id": "08de4e7a-2165-428b-92c5-696ca859784a",
   "metadata": {},
   "outputs": [
    {
     "data": {
      "text/plain": [
       "LGBMClassifier()"
      ]
     },
     "execution_count": 51,
     "metadata": {},
     "output_type": "execute_result"
    }
   ],
   "source": [
    "lightGBM.fit(X_train, y_train)"
   ]
  },
  {
   "cell_type": "code",
   "execution_count": 52,
   "id": "c59b94c7-44f3-4fab-9c2f-e68aa5dccdeb",
   "metadata": {},
   "outputs": [],
   "source": [
    "y_pred=lightGBM.predict(X_validate)"
   ]
  },
  {
   "cell_type": "code",
   "execution_count": 53,
   "id": "84362235-0f0a-4346-be0f-b62676bb6508",
   "metadata": {},
   "outputs": [],
   "source": [
    "from sklearn.metrics import accuracy_score"
   ]
  },
  {
   "cell_type": "code",
   "execution_count": 55,
   "id": "53505247-a02d-4813-a1d6-e1d83f005b30",
   "metadata": {},
   "outputs": [
    {
     "data": {
      "text/plain": [
       "0.5869565217391305"
      ]
     },
     "execution_count": 55,
     "metadata": {},
     "output_type": "execute_result"
    }
   ],
   "source": [
    "accuracy_score(y_validate, y_pred)"
   ]
  },
  {
   "cell_type": "code",
   "execution_count": 57,
   "id": "7feff67b-db4b-4920-a71b-3dcb6959bb9b",
   "metadata": {},
   "outputs": [
    {
     "data": {
      "text/plain": [
       "{'boosting_type': 'gbdt',\n",
       " 'class_weight': None,\n",
       " 'colsample_bytree': 1.0,\n",
       " 'importance_type': 'split',\n",
       " 'learning_rate': 0.1,\n",
       " 'max_depth': -1,\n",
       " 'min_child_samples': 20,\n",
       " 'min_child_weight': 0.001,\n",
       " 'min_split_gain': 0.0,\n",
       " 'n_estimators': 100,\n",
       " 'n_jobs': -1,\n",
       " 'num_leaves': 31,\n",
       " 'objective': None,\n",
       " 'random_state': None,\n",
       " 'reg_alpha': 0.0,\n",
       " 'reg_lambda': 0.0,\n",
       " 'silent': 'warn',\n",
       " 'subsample': 1.0,\n",
       " 'subsample_for_bin': 200000,\n",
       " 'subsample_freq': 0}"
      ]
     },
     "execution_count": 57,
     "metadata": {},
     "output_type": "execute_result"
    }
   ],
   "source": [
    "lightGBM.get_params()"
   ]
  },
  {
   "cell_type": "code",
   "execution_count": 59,
   "id": "0e938876-b43d-477a-8f4a-16ba2c761300",
   "metadata": {},
   "outputs": [
    {
     "data": {
      "text/plain": [
       "array([279, 296])"
      ]
     },
     "execution_count": 59,
     "metadata": {},
     "output_type": "execute_result"
    }
   ],
   "source": [
    "lightGBM.feature_importances_"
   ]
  },
  {
   "cell_type": "code",
   "execution_count": 89,
   "id": "f2ff4176-b02f-4416-9048-4cb60418e258",
   "metadata": {},
   "outputs": [
    {
     "data": {
      "text/plain": [
       "61"
      ]
     },
     "execution_count": 89,
     "metadata": {},
     "output_type": "execute_result"
    }
   ],
   "source": []
  },
  {
   "cell_type": "code",
   "execution_count": 90,
   "id": "c9992378-7c83-4239-af17-6dc9b5b7a19f",
   "metadata": {},
   "outputs": [],
   "source": [
    "import biogeme.database as db\n",
    "train_data = X_train.join(y_train)\n",
    "database = db.Database(\"ned_data\", train_data)\n",
    "globals().update(database.variables)"
   ]
  },
  {
   "cell_type": "code",
   "execution_count": 91,
   "id": "7d48e4ab-d0ae-4892-bb45-4a7a9dc3740c",
   "metadata": {},
   "outputs": [],
   "source": [
    "from biogeme.expressions import Beta\n",
    "\n",
    "ASC_c = Beta('ASC_c',0,None,None,0)\n",
    "ASC_pt = Beta('ASC_pt', 0,None,None,1)\n",
    "\n",
    "B_COST_c = Beta('B_COST_c', 0, None, None, 0)\n",
    "B_COST_pt = Beta('B_COST_pt', 0, None, None, 0)"
   ]
  },
  {
   "cell_type": "code",
   "execution_count": 92,
   "id": "d8955ea7-6df6-4c0e-a774-37142d4609e1",
   "metadata": {},
   "outputs": [],
   "source": [
    "V_c = ASC_c + B_COST_c * car_cost\n",
    "V_pt = ASC_pt + B_COST_pt * rail_cost\n",
    "V = {0: V_c, 1: V_pt}"
   ]
  },
  {
   "cell_type": "code",
   "execution_count": 93,
   "id": "4bfc8a01-54c6-4d8e-8cb8-f2280afd91e4",
   "metadata": {},
   "outputs": [],
   "source": [
    "avail = {0: 1, 1: 1}"
   ]
  },
  {
   "cell_type": "code",
   "execution_count": 94,
   "id": "02e949e6-dc41-49e8-a68c-2a4ac40655d9",
   "metadata": {},
   "outputs": [
    {
     "name": "stdout",
     "output_type": "stream",
     "text": [
      "              Value   Std err    t-test   p-value  Rob. Std err  Rob. t-test  \\\n",
      "ASC_c      0.401589  0.674769  0.595150  0.551743      0.727676     0.551878   \n",
      "B_COST_c  -0.062916  0.013096 -4.804148  0.000002      0.013995    -4.495493   \n",
      "B_COST_pt -0.039362  0.019114 -2.059353  0.039460      0.020146    -1.953829   \n",
      "\n",
      "           Rob. p-value  \n",
      "ASC_c          0.581032  \n",
      "B_COST_c       0.000007  \n",
      "B_COST_pt      0.050721  \n"
     ]
    }
   ],
   "source": [
    "import biogeme.models as models\n",
    "\n",
    "import biogeme.messaging as msg\n",
    "import biogeme.biogeme as bio\n",
    "\n",
    "# observation to the log likelihood function.\n",
    "logprob = models.loglogit(V, avail, rp_choice)\n",
    "\n",
    "# Create the Biogeme object\n",
    "biogeme = bio.BIOGEME(database, logprob)\n",
    "biogeme.modelName = '01logit'\n",
    "\n",
    "# Calculate the null log likelihood for reporting.\n",
    "biogeme.calculateNullLoglikelihood(avail)\n",
    "\n",
    "# Estimate the parameters\n",
    "results = biogeme.estimate()\n",
    "\n",
    "# Get the results in a pandas table\n",
    "pandasResults = results.getEstimatedParameters()\n",
    "print(pandasResults)"
   ]
  },
  {
   "cell_type": "code",
   "execution_count": 76,
   "id": "b4ae3ba6-23b1-42f2-98ae-91a3bcf84362",
   "metadata": {},
   "outputs": [
    {
     "name": "stdout",
     "output_type": "stream",
     "text": [
      "Log likelihood for 46 validation data: -27.23098013351334\n",
      "Log likelihood for 46 validation data: -26.855177449434656\n",
      "Log likelihood for 46 validation data: -31.739714362438058\n",
      "Log likelihood for 45 validation data: -22.21358457391922\n",
      "Log likelihood for 45 validation data: -23.41357073248124\n"
     ]
    }
   ],
   "source": []
  },
  {
   "cell_type": "code",
   "execution_count": null,
   "id": "2e82a274-2a35-4ce2-9595-ed7f95afa346",
   "metadata": {},
   "outputs": [],
   "source": []
  }
 ],
 "metadata": {
  "kernelspec": {
   "display_name": "Python [conda env:biogeme]",
   "language": "python",
   "name": "conda-env-biogeme-py"
  },
  "language_info": {
   "codemirror_mode": {
    "name": "ipython",
    "version": 3
   },
   "file_extension": ".py",
   "mimetype": "text/x-python",
   "name": "python",
   "nbconvert_exporter": "python",
   "pygments_lexer": "ipython3",
   "version": "3.9.7"
  }
 },
 "nbformat": 4,
 "nbformat_minor": 5
}
