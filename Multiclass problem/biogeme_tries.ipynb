{
 "cells": [
  {
   "cell_type": "code",
   "execution_count": 2,
   "metadata": {},
   "outputs": [],
   "source": [
    "# Translated to .py by Meritxell Pacheco (December 2016)\n",
    "# Adapted to PandasBiogeme by Nicola Ortelli (November 2019)\n",
    "\n",
    "\n",
    "import pandas as pd\n",
    "import biogeme.database as db\n",
    "import biogeme.biogeme as bio\n",
    "from biogeme.expressions import Beta\n",
    "from biogeme.models import loglogit\n",
    "from sklearn.model_selection import train_test_split\n",
    "\n",
    "df = pd.read_csv(\"Data/swissmetro.dat\", sep = '\\t')\n",
    "database = db.Database(\"swissmetro\", df)\n",
    "\n",
    "globals().update(database.variables)\n",
    "\n",
    "# Exclude data\n",
    "exclude = (( PURPOSE != 1 ) * ( PURPOSE != 3 ) + ( CHOICE == 0 )) > 0\n",
    "database.remove(exclude)\n",
    "\n",
    "df_train, df_test = train_test_split(df, test_size=0.2, random_state = 42)\n",
    "\n",
    "database_train = db.Database(\"swissmetro_train\", df_train)\n",
    "database_test = db.Database(\"swissmetro_test\", df_test)\n",
    "\n",
    "# Parameters to be estimated\n",
    "ASC_CAR   = Beta('ASC_CAR', 0, None, None, 0)\n",
    "ASC_SM    = Beta('ASC_SM',  0, None, None, 0)\n",
    "ASC_TRAIN = Beta('ASC_SBB', 0, None, None, 1)\n",
    "\n",
    "B_TIME = Beta('B_TIME', 0, None, None, 0)\n",
    "B_COST = Beta('B_COST', 0, None, None, 0)\n",
    "B_HE   = Beta('B_HE',   0, None, None, 0)\n",
    "\n",
    "# Definition of new variables\n",
    "TRAIN_COST = database_train.DefineVariable('TRAIN_COST', TRAIN_CO * ( GA == 0 ))\n",
    "SM_COST    = database_train.DefineVariable('SM_COST', SM_CO * ( GA == 0 ))\n",
    "\n",
    "# Utilities\n",
    "V_TRAIN = ASC_TRAIN + B_TIME * TRAIN_TT + B_COST * TRAIN_COST + B_HE * TRAIN_HE\n",
    "V_SM    = ASC_SM    + B_TIME * SM_TT    + B_COST * SM_COST    + B_HE * SM_HE\n",
    "V_CAR   = ASC_CAR   + B_TIME * CAR_TT   + B_COST * CAR_CO\n",
    "\n",
    "V = {1: V_TRAIN, 2: V_SM, 3: V_CAR}\n",
    "av = {1: TRAIN_AV, 2: SM_AV, 3: CAR_AV}\n",
    "\n",
    "logprob = loglogit(V, av, CHOICE)\n",
    "biogeme = bio.BIOGEME(database_train, logprob)\n",
    "biogeme.modelName = \"Base Model\""
   ]
  },
  {
   "cell_type": "code",
   "execution_count": 27,
   "metadata": {},
   "outputs": [],
   "source": [
    "V_TRAIN.getElementaryExpression('GROUP')"
   ]
  },
  {
   "cell_type": "code",
   "execution_count": 23,
   "metadata": {},
   "outputs": [
    {
     "data": {
      "text/plain": [
       "{'GROUP': GROUP,\n",
       " 'SURVEY': SURVEY,\n",
       " 'SP': SP,\n",
       " 'ID': ID,\n",
       " 'PURPOSE': PURPOSE,\n",
       " 'FIRST': FIRST,\n",
       " 'TICKET': TICKET,\n",
       " 'WHO': WHO,\n",
       " 'LUGGAGE': LUGGAGE,\n",
       " 'AGE': AGE,\n",
       " 'MALE': MALE,\n",
       " 'INCOME': INCOME,\n",
       " 'GA': GA,\n",
       " 'ORIGIN': ORIGIN,\n",
       " 'DEST': DEST,\n",
       " 'TRAIN_AV': TRAIN_AV,\n",
       " 'CAR_AV': CAR_AV,\n",
       " 'SM_AV': SM_AV,\n",
       " 'TRAIN_TT': TRAIN_TT,\n",
       " 'TRAIN_CO': TRAIN_CO,\n",
       " 'TRAIN_HE': TRAIN_HE,\n",
       " 'SM_TT': SM_TT,\n",
       " 'SM_CO': SM_CO,\n",
       " 'SM_HE': SM_HE,\n",
       " 'SM_SEATS': SM_SEATS,\n",
       " 'CAR_TT': CAR_TT,\n",
       " 'CAR_CO': CAR_CO,\n",
       " 'CHOICE': CHOICE,\n",
       " '__bioRemove__': __bioRemove__}"
      ]
     },
     "execution_count": 23,
     "metadata": {},
     "output_type": "execute_result"
    }
   ],
   "source": [
    "database.variables"
   ]
  },
  {
   "cell_type": "code",
   "execution_count": 32,
   "metadata": {},
   "outputs": [
    {
     "data": {
      "text/plain": [
       "'Times'"
      ]
     },
     "execution_count": 32,
     "metadata": {},
     "output_type": "execute_result"
    }
   ],
   "source": [
    "V_TRAIN"
   ]
  },
  {
   "cell_type": "code",
   "execution_count": 22,
   "metadata": {},
   "outputs": [
    {
     "name": "stdout",
     "output_type": "stream",
     "text": [
      "[((ASC_SBB(fixed=0) + (B_TIME(init=0) * TRAIN_TT)) + (B_COST(init=0) * TRAIN_COST)), (B_HE(init=0) * TRAIN_HE)]\n",
      "[((ASC_SM(init=0) + (B_TIME(init=0) * SM_TT)) + (B_COST(init=0) * SM_COST)), (B_HE(init=0) * SM_HE)]\n",
      "[(ASC_CAR(init=0) + (B_TIME(init=0) * CAR_TT)), (B_COST(init=0) * CAR_CO)]\n"
     ]
    }
   ],
   "source": [
    "for k, v in V.items():\n",
    "    print(v.get_children())"
   ]
  },
  {
   "cell_type": "code",
   "execution_count": 7,
   "metadata": {},
   "outputs": [
    {
     "data": {
      "text/plain": [
       "biogeme.expressions.Beta"
      ]
     },
     "execution_count": 7,
     "metadata": {},
     "output_type": "execute_result"
    }
   ],
   "source": [
    "V[1].left.left.right.left"
   ]
  },
  {
   "cell_type": "code",
   "execution_count": 8,
   "metadata": {},
   "outputs": [
    {
     "data": {
      "text/plain": [
       "(None, None)"
      ]
     },
     "execution_count": 8,
     "metadata": {},
     "output_type": "execute_result"
    }
   ],
   "source": [
    "biogeme.getBoundsOnBeta('B_TIME')"
   ]
  },
  {
   "cell_type": "code",
   "execution_count": null,
   "metadata": {},
   "outputs": [],
   "source": []
  }
 ],
 "metadata": {
  "kernelspec": {
   "display_name": "lightgbm",
   "language": "python",
   "name": "python3"
  },
  "language_info": {
   "codemirror_mode": {
    "name": "ipython",
    "version": 3
   },
   "file_extension": ".py",
   "mimetype": "text/x-python",
   "name": "python",
   "nbconvert_exporter": "python",
   "pygments_lexer": "ipython3",
   "version": "3.11.3"
  },
  "orig_nbformat": 4
 },
 "nbformat": 4,
 "nbformat_minor": 2
}
